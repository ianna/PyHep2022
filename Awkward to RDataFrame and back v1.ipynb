{
 "cells": [
  {
   "attachments": {},
   "cell_type": "markdown",
   "id": "14e4174c",
   "metadata": {
    "slideshow": {
     "slide_type": "slide"
    }
   },
   "source": [
    "<div>\n",
    "<img src=\"img/Princeton%20logo.png\" width=\"150\" align=\"right\"/>\n",
    "</div>\n",
    "\n",
    "<div>\n",
    "<img src=\"img/IRIS-HEP%20logo.png\" width=\"120\" align=\"left\"/>\n",
    "</div>\n",
    "\n",
    "<br>\n",
    "<br>\n",
    "<br>\n",
    "<br>\n",
    "\n",
    "# Awkward RDataFrame Tutorial\n",
    "### Ianna Osborne, Jim Pivarski \n",
    "*Princeton University*\n",
    "\n",
    "###### [PyHEP 2022 (virtual) Workshop, 12 - 16 Sept 2022](https://indico.cern.ch/event/1150631/timetable/)"
   ]
  },
  {
   "cell_type": "markdown",
   "id": "65f0d67f",
   "metadata": {
    "slideshow": {
     "slide_type": "slide"
    }
   },
   "source": [
    "## Awkward Arrays and RDataFrame\n",
    "\n",
    "Awkward Arrays and RDataFrame are two very different ways of performing calculations at scale.\n",
    "\n",
    "[Awkward Array](https://github.com/scikit-hep/awkward) is a library for nested, variable-sized data, including arbitrary-length lists, records, mixed types, and missing data, using NumPy-like idioms. It is a cornerstone of user analyses in Python eco-system.\n",
    "\n",
    "[RDataFrame](https://root.cern.ch/doc/master/classROOT_1_1RDataFrame.html) - [ROOT](https://root.cern.ch/doc/master/namespaceROOT.html)'s declarative analysis interface that supports many input formats.\n",
    "\n",
    "The Awkward-RDF bridge provides users with more flexibility in mixing different packages and languages in their analyses. There are numerous benefits of combining both Python and C++. Physicists can mix analyses using Awkward Arrays, Numba, and ROOT C++ in memory, without saving to disk and without leaving their environment."
   ]
  },
  {
   "attachments": {},
   "cell_type": "markdown",
   "id": "5d6174a8",
   "metadata": {
    "slideshow": {
     "slide_type": "slide"
    }
   },
   "source": [
    "<div>\n",
    "<img src=\"img/Awkward%20Array%20and%20other%20projects.png\" width=\"800\" align=\"center\"/>\n",
    "</div>\n",
    "\n",
    "Let’s start from Awkward Arrays and put them into an RDataFrame."
   ]
  },
  {
   "cell_type": "markdown",
   "id": "fd338a54",
   "metadata": {
    "slideshow": {
     "slide_type": "slide"
    }
   },
   "source": [
    "## From Awkward Arrays to RDataFrame\n",
    "We need to use Awkward Arrays version 2 and PyRoot."
   ]
  },
  {
   "cell_type": "code",
   "execution_count": 1,
   "id": "8435cb67",
   "metadata": {
    "slideshow": {
     "slide_type": "fragment"
    }
   },
   "outputs": [
    {
     "name": "stdout",
     "output_type": "stream",
     "text": [
      "Welcome to JupyROOT 6.26/02\n"
     ]
    }
   ],
   "source": [
    "import awkward._v2 as ak\n",
    "import ROOT"
   ]
  },
  {
   "cell_type": "code",
   "execution_count": 2,
   "id": "7b625c80",
   "metadata": {
    "slideshow": {
     "slide_type": "fragment"
    }
   },
   "outputs": [],
   "source": [
    "array_x = ak.Array(\n",
    "        [\n",
    "            {\"x\": [1.1, 1.2, 1.3]},\n",
    "            {\"x\": [2.1, 2.21]},\n",
    "            {\"x\": [3.1]},\n",
    "            {\"x\": [4.1, 4.2, 4.3, 4.4]},\n",
    "            {\"x\": [5.1]},\n",
    "        ]\n",
    "    )\n",
    "array_y = ak.Array([1, 2, 3, 4, 5])\n",
    "array_z = ak.Array([1.1, 2.2, 3.3, 4.4, 5.5])"
   ]
  },
  {
   "cell_type": "code",
   "execution_count": 3,
   "id": "b3cc4a28",
   "metadata": {
    "scrolled": true,
    "slideshow": {
     "slide_type": "slide"
    }
   },
   "outputs": [
    {
     "name": "stdout",
     "output_type": "stream",
     "text": [
      "CPU times: user 1.58 s, sys: 48.9 ms, total: 1.63 s\n",
      "Wall time: 1.66 s\n"
     ]
    }
   ],
   "source": [
    "%%time\n",
    "\n",
    "df = ak.to_rdataframe({\"x\": array_x, \"y\": array_y, \"z\": array_z})"
   ]
  },
  {
   "cell_type": "markdown",
   "id": "549e5844",
   "metadata": {
    "slideshow": {
     "slide_type": "fragment"
    }
   },
   "source": [
    "The awkward style `ak.to_rdataframe` function requires a dictionary: a key defines a column name of an Awkward Array that will be placed in the RDataFrame. This operation does not execute the RDF event loop. There is a small overhead of generating [Awkward RDataSource C++ code](https://github.com/scikit-hep/awkward/blob/main/src/awkward/_v2/_connect/rdataframe/to_rdataframe.py#L152-L252). This does not depend on the data size - the data are not copied."
   ]
  },
  {
   "cell_type": "code",
   "execution_count": 4,
   "id": "3fd7a5c8",
   "metadata": {
    "slideshow": {
     "slide_type": "slide"
    }
   },
   "outputs": [
    {
     "name": "stdout",
     "output_type": "stream",
     "text": [
      "Dataframe from datasource Custom Datasource\n",
      "\n",
      "Property                Value\n",
      "--------                -----\n",
      "Columns in total            4\n",
      "Columns from defines        1\n",
      "Event loops run             0\n",
      "Processing slots            1\n",
      "\n",
      "Column          Type                            Origin\n",
      "------          ----                            ------\n",
      "awkward_index_  Long64_t                        Define\n",
      "x               awkward::Record_IYd7H0fXJlI     Dataset\n",
      "y               int64_t                         Dataset\n",
      "z               double                          Dataset"
     ]
    }
   ],
   "source": [
    "# Let's check the state of the dataframe:\n",
    "df.Describe().Print()"
   ]
  },
  {
   "cell_type": "markdown",
   "id": "38125ab7",
   "metadata": {
    "slideshow": {
     "slide_type": "fragment"
    }
   },
   "source": [
    "The `x` column contains an Awkward Array with a made-up type; `awkward::Record_cKnX5DyNVM`.\n",
    "\n",
    "Awkward Arrays are dynamically typed, so in a C++ context, the type name is hashed. In practice, there is no need to know the type. The C++ code should use a placeholder type specifier `auto`. The type of the variable that is being declared will be automatically deduced from its initializer.\n",
    "\n",
    "The `awkward_index_` column is always defined; it is used internally. "
   ]
  },
  {
   "cell_type": "code",
   "execution_count": 5,
   "id": "bec21151",
   "metadata": {
    "slideshow": {
     "slide_type": "slide"
    }
   },
   "outputs": [
    {
     "data": {
      "text/plain": [
       "'awkward::Record_IYd7H0fXJlI'"
      ]
     },
     "execution_count": 5,
     "metadata": {},
     "output_type": "execute_result"
    }
   ],
   "source": [
    "df.GetColumnType(\"x\")"
   ]
  },
  {
   "cell_type": "code",
   "execution_count": 6,
   "id": "eb57e3b2",
   "metadata": {
    "slideshow": {
     "slide_type": "fragment"
    }
   },
   "outputs": [
    {
     "data": {
      "text/plain": [
       "'int64_t'"
      ]
     },
     "execution_count": 6,
     "metadata": {},
     "output_type": "execute_result"
    }
   ],
   "source": [
    "df.GetColumnType(\"y\")"
   ]
  },
  {
   "cell_type": "code",
   "execution_count": 7,
   "id": "0b9cf26d",
   "metadata": {
    "slideshow": {
     "slide_type": "fragment"
    }
   },
   "outputs": [
    {
     "data": {
      "text/plain": [
       "'double'"
      ]
     },
     "execution_count": 7,
     "metadata": {},
     "output_type": "execute_result"
    }
   ],
   "source": [
    "df.GetColumnType(\"z\")"
   ]
  },
  {
   "cell_type": "markdown",
   "id": "6e888117",
   "metadata": {
    "slideshow": {
     "slide_type": "slide"
    }
   },
   "source": [
    "Now we can schedule the operations on RDF, for example, filtering. Note that this operation does not execute the event loop."
   ]
  },
  {
   "cell_type": "code",
   "execution_count": 8,
   "id": "c9065b0c",
   "metadata": {
    "slideshow": {
     "slide_type": "fragment"
    }
   },
   "outputs": [],
   "source": [
    "df = df.Filter(\"y > 2\")"
   ]
  },
  {
   "cell_type": "code",
   "execution_count": 9,
   "id": "f2290c06",
   "metadata": {
    "slideshow": {
     "slide_type": "fragment"
    }
   },
   "outputs": [
    {
     "name": "stdout",
     "output_type": "stream",
     "text": [
      "Dataframe from datasource Custom Datasource\n",
      "\n",
      "Property                Value\n",
      "--------                -----\n",
      "Columns in total            4\n",
      "Columns from defines        1\n",
      "Event loops run             0\n",
      "Processing slots            1\n",
      "\n",
      "Column          Type                            Origin\n",
      "------          ----                            ------\n",
      "awkward_index_  Long64_t                        Define\n",
      "x               awkward::Record_IYd7H0fXJlI     Dataset\n",
      "y               int64_t                         Dataset\n",
      "z               double                          Dataset"
     ]
    }
   ],
   "source": [
    "# Let's check that this operation does not execute the event loop.\n",
    "df.Describe().Print()"
   ]
  },
  {
   "cell_type": "code",
   "execution_count": 10,
   "id": "68d56865",
   "metadata": {
    "slideshow": {
     "slide_type": "slide"
    }
   },
   "outputs": [
    {
     "name": "stdout",
     "output_type": "stream",
     "text": [
      "CPU times: user 7.85 s, sys: 123 ms, total: 7.97 s\n",
      "Wall time: 8 s\n"
     ]
    }
   ],
   "source": [
    "%%time\n",
    "\n",
    "\n",
    "# Trigger the event loop once to retrieve all selected columns.\n",
    "out = ak.from_rdataframe(\n",
    "    df,\n",
    "    columns=(\"x\", \"y\", \"z\",),\n",
    ")"
   ]
  },
  {
   "cell_type": "code",
   "execution_count": 11,
   "id": "98baf009",
   "metadata": {
    "slideshow": {
     "slide_type": "fragment"
    }
   },
   "outputs": [
    {
     "data": {
      "text/plain": [
       "<Array [{y: 3, z: 3.3, x: {...}}, ..., {...}] type='3 * {y: int64, z: float...'>"
      ]
     },
     "execution_count": 11,
     "metadata": {},
     "output_type": "execute_result"
    }
   ],
   "source": [
    "out"
   ]
  },
  {
   "cell_type": "code",
   "execution_count": 12,
   "id": "652876e7",
   "metadata": {
    "slideshow": {
     "slide_type": "slide"
    }
   },
   "outputs": [
    {
     "name": "stdout",
     "output_type": "stream",
     "text": [
      "type: 3 * {\n",
      "    y: int64,\n",
      "    z: float64,\n",
      "    x: {\n",
      "        x: var * float64\n",
      "    }\n",
      "}\n",
      "[{y: 3, z: 3.3, x: {x: [3.1]}},\n",
      " {y: 4, z: 4.4, x: {x: [4.1, ..., 4.4]}},\n",
      " {y: 5, z: 5.5, x: {x: [5.1]}}]\n"
     ]
    }
   ],
   "source": [
    "# Let's check the type of the Awkward Array.\n",
    "# The initial input Record_* is indexed because of \n",
    "# the filter selection; it's content not copied.\n",
    "out.show(type=True)"
   ]
  },
  {
   "cell_type": "code",
   "execution_count": 13,
   "id": "bbd83cf3",
   "metadata": {
    "slideshow": {
     "slide_type": "fragment"
    }
   },
   "outputs": [
    {
     "name": "stdout",
     "output_type": "stream",
     "text": [
      "[3, 4, 5]\n",
      "[3.3, 4.4, 5.5]\n",
      "[{'x': [3.1]}, {'x': [4.1, 4.2, 4.3, 4.4]}, {'x': [5.1]}]\n"
     ]
    }
   ],
   "source": [
    "# Let's check the filtered entries for \"y > 2\".\n",
    "print(out[\"y\"].to_list())\n",
    "print(out[\"z\"].to_list())\n",
    "print(out[\"x\"].to_list())"
   ]
  },
  {
   "cell_type": "code",
   "execution_count": 14,
   "id": "fed3aca2",
   "metadata": {
    "slideshow": {
     "slide_type": "slide"
    }
   },
   "outputs": [
    {
     "name": "stdout",
     "output_type": "stream",
     "text": [
      "Dataframe from datasource Custom Datasource\n",
      "\n",
      "Property                Value\n",
      "--------                -----\n",
      "Columns in total            4\n",
      "Columns from defines        1\n",
      "Event loops run             1\n",
      "Processing slots            1\n",
      "\n",
      "Column          Type                            Origin\n",
      "------          ----                            ------\n",
      "awkward_index_  Long64_t                        Define\n",
      "x               awkward::Record_IYd7H0fXJlI     Dataset\n",
      "y               int64_t                         Dataset\n",
      "z               double                          Dataset"
     ]
    }
   ],
   "source": [
    "# Check to make sure we triggered the event loop only once.\n",
    "df.Describe().Print()"
   ]
  },
  {
   "attachments": {},
   "cell_type": "markdown",
   "id": "80195401",
   "metadata": {
    "slideshow": {
     "slide_type": "slide"
    }
   },
   "source": [
    "## From RDataFrame to Awkward Arrays\n",
    "\n",
    "The *`ak.from_rdataframe`* function converts selected columns to native Awkward Arrays. The function takes a tuple of strings that are the RDF column names and recognizes the following column data types:\n",
    "\n",
    "* Primitive types: `integer`, `float`, `double`, `std::complex<double>`, etc.\n",
    "* Lists of primitive types and the arbitrary depth nested lists of primitive types: `std::vector<double>`, `RVec<int>`, etc.\n",
    "* Awkward types: run-time generated types derived from `awkward::ArrayView` or `awkward::RecordView`\n",
    "  * because Awkward Arrays are immutable no copy required\n",
    "<div>\n",
    "<img src=\"img/Awkward%20types.png\" width=\"500\" align=\"left\"/>\n",
    "</div>"
   ]
  },
  {
   "cell_type": "code",
   "execution_count": 15,
   "id": "c1cd262d",
   "metadata": {
    "slideshow": {
     "slide_type": "slide"
    }
   },
   "outputs": [],
   "source": [
    "import awkward._v2 as ak\n",
    "import ROOT"
   ]
  },
  {
   "cell_type": "code",
   "execution_count": 16,
   "id": "943787c4",
   "metadata": {
    "slideshow": {
     "slide_type": "slide"
    }
   },
   "outputs": [],
   "source": [
    "# Create a dataframe\n",
    "df = ROOT.RDataFrame('Events', 'Run2012BC_DoubleMuParked_Muons.root')"
   ]
  },
  {
   "cell_type": "markdown",
   "id": "6775cc9a",
   "metadata": {
    "slideshow": {
     "slide_type": "fragment"
    }
   },
   "source": [
    "CMS data from [CERN Open Data portal](http://opendata.web.cern.ch/record/12341).\n",
    "This dataset contains about 60 mio. data events from the CMS detector taken in 2012 \n",
    "during Run B and C. The original AOD dataset is converted to the NanoAOD format and \n",
    "reduced to the muon collections. The dataset in the file is called Events and contains \n",
    "columns as described in the table below.\n",
    "<br>Dataset semantics\n",
    "```\n",
    "Variable Type\tDescription\n",
    "nMuon\tunsigned int\tNumber of muons in this event\n",
    "Muon_pt\tfloat[nMuon]\tTransverse momentum of the muons (stored as an array of size nMuon)\n",
    "Muon_eta\tfloat[nMuon]\tPseudorapidity of the muons\n",
    "Muon_phi\tfloat[nMuon]\tAzimuth of the muons\n",
    "Muon_mass\tfloat[nMuon]\tMass of the muons\n",
    "Muon_charge\tint[nMuon]\tCharge of the muons (either 1 or -1)\n",
    "```\n",
    "<br>DoubleMuParked dataset from 2012 in NanoAOD format reduced on muons\n",
    "<br>Wunsch, Stefan\n",
    "<br>Cite as: Wunsch, Stefan; (2019). DoubleMuParked dataset from 2012 in NanoAOD format \n",
    " reduced on muons. CERN Open Data Portal. DOI:10.7483/OPENDATA.CMS.LVG5.QT81\n",
    "<br>Dataset Derived CMS CERN-LHC"
   ]
  },
  {
   "cell_type": "code",
   "execution_count": 17,
   "id": "0661e117",
   "metadata": {
    "scrolled": true,
    "slideshow": {
     "slide_type": "slide"
    }
   },
   "outputs": [
    {
     "name": "stdout",
     "output_type": "stream",
     "text": [
      "Dataframe from TChain Events in file Run2012BC_DoubleMuParked_Muons.root\n",
      "\n",
      "Property                Value\n",
      "--------                -----\n",
      "Columns in total            6\n",
      "Columns from defines        0\n",
      "Event loops run             0\n",
      "Processing slots            1\n",
      "\n",
      "Column          Type                            Origin\n",
      "------          ----                            ------\n",
      "Muon_charge     ROOT::VecOps::RVec<Int_t>       Dataset\n",
      "Muon_eta        ROOT::VecOps::RVec<Float_t>     Dataset\n",
      "Muon_mass       ROOT::VecOps::RVec<Float_t>     Dataset\n",
      "Muon_phi        ROOT::VecOps::RVec<Float_t>     Dataset\n",
      "Muon_pt         ROOT::VecOps::RVec<Float_t>     Dataset\n",
      "nMuon           UInt_t                          Dataset"
     ]
    }
   ],
   "source": [
    "# Describe the state of the dataframe.\n",
    "# Note that this operation is not running the event loop.\n",
    "df.Describe().Print()"
   ]
  },
  {
   "cell_type": "code",
   "execution_count": 18,
   "id": "b6098a90",
   "metadata": {
    "slideshow": {
     "slide_type": "slide"
    }
   },
   "outputs": [],
   "source": [
    "# Build a small analysis studying the invariant mass of dimuon systems.\n",
    "df = df.Filter('nMuon == 2')\\\n",
    "       .Filter('Muon_charge[0] != Muon_charge[1]')\\\n",
    "       .Define('Dimuon_mass', 'InvariantMass(Muon_pt, Muon_eta, Muon_phi, Muon_mass)')\\\n",
    "       .Filter('Dimuon_mass > 70')\\\n",
    "       .Range(1000)"
   ]
  },
  {
   "cell_type": "markdown",
   "id": "19cad749",
   "metadata": {},
   "source": [
    "See [ROOT tutorial](https://root.cern.ch/doc/master/df102__NanoAODDimuonAnalysis_8py.html) for more information."
   ]
  },
  {
   "cell_type": "code",
   "execution_count": 19,
   "id": "52a9922b",
   "metadata": {
    "slideshow": {
     "slide_type": "fragment"
    }
   },
   "outputs": [
    {
     "name": "stdout",
     "output_type": "stream",
     "text": [
      "\n",
      "Approximate mass of the Z boson: 91.44 GeV\n",
      "\n"
     ]
    }
   ],
   "source": [
    "# Trigger the event loop \n",
    "# by asking for the mean of the dimuon mass.\n",
    "print('\\nApproximate mass of the Z boson: {:.2f} GeV\\n'.format(\n",
    "        df.Mean('Dimuon_mass').GetValue()))"
   ]
  },
  {
   "cell_type": "code",
   "execution_count": 20,
   "id": "a20808c6",
   "metadata": {
    "slideshow": {
     "slide_type": "slide"
    }
   },
   "outputs": [
    {
     "name": "stdout",
     "output_type": "stream",
     "text": [
      "Dataframe from TChain Events in file Run2012BC_DoubleMuParked_Muons.root\n",
      "\n",
      "Property                Value\n",
      "--------                -----\n",
      "Columns in total            7\n",
      "Columns from defines        1\n",
      "Event loops run             1\n",
      "Processing slots            1\n",
      "\n",
      "Column          Type                            Origin\n",
      "------          ----                            ------\n",
      "Dimuon_mass     float                           Define\n",
      "Muon_charge     ROOT::VecOps::RVec<Int_t>       Dataset\n",
      "Muon_eta        ROOT::VecOps::RVec<Float_t>     Dataset\n",
      "Muon_mass       ROOT::VecOps::RVec<Float_t>     Dataset\n",
      "Muon_phi        ROOT::VecOps::RVec<Float_t>     Dataset\n",
      "Muon_pt         ROOT::VecOps::RVec<Float_t>     Dataset\n",
      "nMuon           UInt_t                          Dataset"
     ]
    }
   ],
   "source": [
    "# Check that this operation triggered the event loop once:\n",
    "#\n",
    "# Event loops run             1\n",
    "#\n",
    "df.Describe().Print()"
   ]
  },
  {
   "cell_type": "markdown",
   "id": "dcbc1ed9",
   "metadata": {},
   "source": [
    "Let's take the data out as Awkward Arrays. Here we copy the contents of the `RVecs` to the Numpy buffers."
   ]
  },
  {
   "cell_type": "code",
   "execution_count": 21,
   "id": "ba5d09d5",
   "metadata": {
    "slideshow": {
     "slide_type": "slide"
    }
   },
   "outputs": [
    {
     "name": "stdout",
     "output_type": "stream",
     "text": [
      "CPU times: user 9.92 s, sys: 131 ms, total: 10.1 s\n",
      "Wall time: 10.1 s\n"
     ]
    }
   ],
   "source": [
    "%%time\n",
    "\n",
    "# Convert selected columns to Awkward array.\n",
    "array = ak.from_rdataframe(\n",
    "        df,                #     Type                            Origin\n",
    "        columns=(          #     ----                            ------\n",
    "            \"Dimuon_mass\", #     float                           Define\n",
    "            \"Muon_charge\", #     ROOT::VecOps::RVec<Int_t>       Dataset\n",
    "            \"Muon_eta\",    #     ROOT::VecOps::RVec<Float_t>     Dataset\n",
    "            \"Muon_mass\",   #     ROOT::VecOps::RVec<Float_t>     Dataset\n",
    "            \"Muon_phi\",    #     ROOT::VecOps::RVec<Float_t>     Dataset\n",
    "            \"Muon_pt\",     #     ROOT::VecOps::RVec<Float_t>     Dataset\n",
    "            \"nMuon\",       #     UInt_t                          Dataset\n",
    "        ),\n",
    "    )"
   ]
  },
  {
   "cell_type": "code",
   "execution_count": 22,
   "id": "8fa8ae46",
   "metadata": {
    "slideshow": {
     "slide_type": "fragment"
    }
   },
   "outputs": [
    {
     "data": {
      "text/plain": [
       "<Array [{Dimuon_mass: 114, ...}, ..., {...}] type='1000 * {Dimuon_mass: flo...'>"
      ]
     },
     "execution_count": 22,
     "metadata": {},
     "output_type": "execute_result"
    }
   ],
   "source": [
    "array"
   ]
  },
  {
   "cell_type": "code",
   "execution_count": 23,
   "id": "8e9adfea",
   "metadata": {
    "slideshow": {
     "slide_type": "slide"
    }
   },
   "outputs": [
    {
     "name": "stdout",
     "output_type": "stream",
     "text": [
      "type: 1000 * {\n",
      "    Dimuon_mass: float32,\n",
      "    Muon_charge: var * int32,\n",
      "    Muon_eta: var * float32,\n",
      "    Muon_mass: var * float32,\n",
      "    Muon_phi: var * float32,\n",
      "    Muon_pt: var * float32,\n",
      "    nMuon: uint32\n",
      "}\n",
      "[{Dimuon_mass: 114, Muon_charge: [-1, 1], Muon_eta: [...], Muon_mass: ..., ...},\n",
      " {Dimuon_mass: 88.3, Muon_charge: [1, -1], Muon_eta: [2.2, ...], ...},\n",
      " {Dimuon_mass: 88.3, Muon_charge: [1, -1], Muon_eta: [...], ...},\n",
      " {Dimuon_mass: 91.3, Muon_charge: [1, -1], Muon_eta: [...], ...},\n",
      " {Dimuon_mass: 93.6, Muon_charge: [1, -1], Muon_eta: [...], ...},\n",
      " {Dimuon_mass: 90.9, Muon_charge: [-1, 1], Muon_eta: [...], ...},\n",
      " {Dimuon_mass: 89.2, Muon_charge: [-1, 1], Muon_eta: [...], ...},\n",
      " {Dimuon_mass: 82.3, Muon_charge: [-1, 1], Muon_eta: [...], ...},\n",
      " {Dimuon_mass: 94.6, Muon_charge: [1, -1], Muon_eta: [...], ...},\n",
      " {Dimuon_mass: 89.2, Muon_charge: [-1, 1], Muon_eta: [...], ...},\n",
      " ...,\n",
      " {Dimuon_mass: 86.4, Muon_charge: [-1, 1], Muon_eta: [...], ...},\n",
      " {Dimuon_mass: 77.1, Muon_charge: [-1, 1], Muon_eta: [1.1, ...], ...},\n",
      " {Dimuon_mass: 89.8, Muon_charge: [-1, 1], Muon_eta: [...], ...},\n",
      " {Dimuon_mass: 87.3, Muon_charge: [-1, 1], Muon_eta: [...], ...},\n",
      " {Dimuon_mass: 92, Muon_charge: [1, -1], Muon_eta: [...], Muon_mass: ..., ...},\n",
      " {Dimuon_mass: 70.7, Muon_charge: [1, -1], Muon_eta: [...], ...},\n",
      " {Dimuon_mass: 89.6, Muon_charge: [-1, 1], Muon_eta: [...], ...},\n",
      " {Dimuon_mass: 91.1, Muon_charge: [1, -1], Muon_eta: [...], ...},\n",
      " {Dimuon_mass: 90.1, Muon_charge: [1, -1], Muon_eta: [...], ...}]\n"
     ]
    }
   ],
   "source": [
    "# Check the array type.\n",
    "array.show(type=True)"
   ]
  },
  {
   "cell_type": "code",
   "execution_count": 24,
   "id": "e1d39f44",
   "metadata": {
    "slideshow": {
     "slide_type": "slide"
    }
   },
   "outputs": [
    {
     "name": "stdout",
     "output_type": "stream",
     "text": [
      "Dataframe from TChain Events in file Run2012BC_DoubleMuParked_Muons.root\n",
      "\n",
      "Property                Value\n",
      "--------                -----\n",
      "Columns in total            7\n",
      "Columns from defines        1\n",
      "Event loops run             2\n",
      "Processing slots            1\n",
      "\n",
      "Column          Type                            Origin\n",
      "------          ----                            ------\n",
      "Dimuon_mass     float                           Define\n",
      "Muon_charge     ROOT::VecOps::RVec<Int_t>       Dataset\n",
      "Muon_eta        ROOT::VecOps::RVec<Float_t>     Dataset\n",
      "Muon_mass       ROOT::VecOps::RVec<Float_t>     Dataset\n",
      "Muon_phi        ROOT::VecOps::RVec<Float_t>     Dataset\n",
      "Muon_pt         ROOT::VecOps::RVec<Float_t>     Dataset\n",
      "nMuon           UInt_t                          Dataset"
     ]
    }
   ],
   "source": [
    "# Check that all the columns were retrieved in a single event loop:\n",
    "#\n",
    "# Event loops run             2\n",
    "#\n",
    "df.Describe().Print()"
   ]
  },
  {
   "cell_type": "code",
   "execution_count": 25,
   "id": "b588be5e",
   "metadata": {
    "slideshow": {
     "slide_type": "slide"
    }
   },
   "outputs": [
    {
     "data": {
      "text/plain": [
       "<Array [114, 88.3, 88.3, 91.3, ..., 89.6, 91.1, 90.1] type='1000 * float32'>"
      ]
     },
     "execution_count": 25,
     "metadata": {},
     "output_type": "execute_result"
    }
   ],
   "source": [
    "array[\"Dimuon_mass\"]"
   ]
  },
  {
   "cell_type": "code",
   "execution_count": 26,
   "id": "dfeb4f96",
   "metadata": {
    "scrolled": true,
    "slideshow": {
     "slide_type": "fragment"
    }
   },
   "outputs": [
    {
     "data": {
      "image/png": "[encoded data removed]",
      "text/plain": [
       "<Figure size 432x288 with 1 Axes>"
      ]
     },
     "metadata": {
      "needs_background": "light"
     },
     "output_type": "display_data"
    }
   ],
   "source": [
    "import matplotlib\n",
    "import matplotlib.pyplot as plt\n",
    "\n",
    "# plot `Dimuon_mass`\n",
    "plt.hist(array[\"Dimuon_mass\"], bins=200)\n",
    "plt.xlim(70, 200)\n",
    "plt.yscale('log')\n",
    "plt.grid(True)"
   ]
  },
  {
   "cell_type": "code",
   "execution_count": 27,
   "id": "eb84a10d",
   "metadata": {
    "slideshow": {
     "slide_type": "fragment"
    }
   },
   "outputs": [],
   "source": [
    "import numpy as np"
   ]
  },
  {
   "cell_type": "code",
   "execution_count": 28,
   "id": "f97fc534",
   "metadata": {
    "slideshow": {
     "slide_type": "fragment"
    }
   },
   "outputs": [
    {
     "data": {
      "text/plain": [
       "91.438576"
      ]
     },
     "execution_count": 28,
     "metadata": {},
     "output_type": "execute_result"
    }
   ],
   "source": [
    "np.mean(array[\"Dimuon_mass\"])"
   ]
  },
  {
   "cell_type": "markdown",
   "id": "806b2c5e",
   "metadata": {
    "slideshow": {
     "slide_type": "slide"
    }
   },
   "source": [
    "## Large-scale Awkward data roundtrip"
   ]
  },
  {
   "cell_type": "markdown",
   "id": "bbadc53f",
   "metadata": {
    "slideshow": {
     "slide_type": "fragment"
    }
   },
   "source": [
    "Note, if we want to process all events (not a 1000) the multi-threading can be enabled with:\n",
    "```python\n",
    "# Enable multi-threading\n",
    "ROOT.ROOT.EnableImplicitMT()\n",
    "```"
   ]
  },
  {
   "cell_type": "code",
   "execution_count": 29,
   "id": "0a11a7e2",
   "metadata": {
    "slideshow": {
     "slide_type": "fragment"
    }
   },
   "outputs": [],
   "source": [
    "# Create a dataframe\n",
    "df = ROOT.RDataFrame('Events', 'Run2012BC_DoubleMuParked_Muons.root')"
   ]
  },
  {
   "cell_type": "markdown",
   "id": "32a2ad15",
   "metadata": {},
   "source": [
    "Let's take out all 60 mio. data events as an Awkward Array:"
   ]
  },
  {
   "cell_type": "code",
   "execution_count": 30,
   "id": "190d5bf6",
   "metadata": {
    "slideshow": {
     "slide_type": "fragment"
    }
   },
   "outputs": [
    {
     "name": "stdout",
     "output_type": "stream",
     "text": [
      "CPU times: user 2min 21s, sys: 1min 9s, total: 3min 31s\n",
      "Wall time: 3min 52s\n"
     ]
    }
   ],
   "source": [
    "%%time\n",
    "\n",
    "array = ak.from_rdataframe(\n",
    "        df,                #     Type                            Origin\n",
    "        columns=(          #     ----                            ------\n",
    "            \"Muon_charge\", #     ROOT::VecOps::RVec<Int_t>       Dataset\n",
    "            \"Muon_eta\",    #     ROOT::VecOps::RVec<Float_t>     Dataset\n",
    "            \"Muon_mass\",   #     ROOT::VecOps::RVec<Float_t>     Dataset\n",
    "            \"Muon_phi\",    #     ROOT::VecOps::RVec<Float_t>     Dataset\n",
    "            \"Muon_pt\",     #     ROOT::VecOps::RVec<Float_t>     Dataset\n",
    "            \"nMuon\",       #     UInt_t                          Dataset\n",
    "        ),\n",
    "    )"
   ]
  },
  {
   "cell_type": "code",
   "execution_count": 31,
   "id": "be294f04",
   "metadata": {
    "slideshow": {
     "slide_type": "fragment"
    }
   },
   "outputs": [
    {
     "data": {
      "text/plain": [
       "<Array [{Muon_charge: [...], ...}, ..., {...}] type='61540413 * {Muon_charg...'>"
      ]
     },
     "execution_count": 31,
     "metadata": {},
     "output_type": "execute_result"
    }
   ],
   "source": [
    "array"
   ]
  },
  {
   "cell_type": "code",
   "execution_count": 32,
   "id": "3f81d1cd",
   "metadata": {
    "slideshow": {
     "slide_type": "slide"
    }
   },
   "outputs": [
    {
     "name": "stdout",
     "output_type": "stream",
     "text": [
      "type: 61540413 * {\n",
      "    Muon_charge: var * int32,\n",
      "    Muon_eta: var * float32,\n",
      "    Muon_mass: var * float32,\n",
      "    Muon_phi: var * float32,\n",
      "    Muon_pt: var * float32,\n",
      "    nMuon: uint32\n",
      "}\n",
      "[{Muon_charge: [-1, -1], Muon_eta: [1.07, -0.564], Muon_mass: [...], ...},\n",
      " {Muon_charge: [1, -1], Muon_eta: [-0.428, 0.349], Muon_mass: [...], ...},\n",
      " {Muon_charge: [1], Muon_eta: [2.21], Muon_mass: [0.106], Muon_phi: ..., ...},\n",
      " {Muon_charge: [1, 1, 1, 1], Muon_eta: [-1.59, ...], Muon_mass: [...], ...},\n",
      " {Muon_charge: [-1, -1, 1, 1], Muon_eta: [-2.17, ...], Muon_mass: [...], ...},\n",
      " {Muon_charge: [-1, 1, -1], Muon_eta: [-1.37, ...], Muon_mass: [...], ...},\n",
      " {Muon_charge: [-1, 1], Muon_eta: [-0.532, -1], Muon_mass: [...], ...},\n",
      " {Muon_charge: [1, -1], Muon_eta: [-0.772, ...], Muon_mass: [...], ...},\n",
      " {Muon_charge: [-1, 1], Muon_eta: [0.442, 0.702], Muon_mass: [...], ...},\n",
      " {Muon_charge: [-1, 1], Muon_eta: [2.34, 2.35], Muon_mass: [...], ...},\n",
      " ...,\n",
      " {Muon_charge: [1, -1], Muon_eta: [0.252, 0.275], Muon_mass: [...], ...},\n",
      " {Muon_charge: [1, -1], Muon_eta: [1.27, 1.29], Muon_mass: [...], ...},\n",
      " {Muon_charge: [-1, 1], Muon_eta: [0.964, ...], Muon_mass: [...], ...},\n",
      " {Muon_charge: [-1, 1, 1], Muon_eta: [-0.728, ...], Muon_mass: [...], ...},\n",
      " {Muon_charge: [1, -1], Muon_eta: [0.154, 0.0944], Muon_mass: [...], ...},\n",
      " {Muon_charge: [-1, 1], Muon_eta: [-1.92, 0.378], Muon_mass: [...], ...},\n",
      " {Muon_charge: [-1, -1, -1, -1], Muon_eta: [-0.566, ...], Muon_mass: ..., ...},\n",
      " {Muon_charge: [-1, -1, -1], Muon_eta: [-1.47, ...], Muon_mass: [...], ...},\n",
      " {Muon_charge: [-1, 1], Muon_eta: [-2.15, 0.291], Muon_mass: [...], ...}]\n"
     ]
    }
   ],
   "source": [
    "array.show(type=True)"
   ]
  },
  {
   "cell_type": "markdown",
   "id": "6057f006",
   "metadata": {},
   "source": [
    "Let's put the whole array in another RDataFrame as a single column:"
   ]
  },
  {
   "cell_type": "code",
   "execution_count": 33,
   "id": "e1dc7a76",
   "metadata": {
    "slideshow": {
     "slide_type": "slide"
    }
   },
   "outputs": [
    {
     "name": "stdout",
     "output_type": "stream",
     "text": [
      "CPU times: user 729 ms, sys: 274 ms, total: 1 s\n",
      "Wall time: 1.17 s\n"
     ]
    }
   ],
   "source": [
    "%%time\n",
    "\n",
    "df1 = ak.to_rdataframe({\"Events\": array})"
   ]
  },
  {
   "cell_type": "code",
   "execution_count": 34,
   "id": "775a4c69",
   "metadata": {
    "slideshow": {
     "slide_type": "fragment"
    }
   },
   "outputs": [
    {
     "name": "stdout",
     "output_type": "stream",
     "text": [
      "Dataframe from datasource Custom Datasource\n",
      "\n",
      "Property                Value\n",
      "--------                -----\n",
      "Columns in total            2\n",
      "Columns from defines        1\n",
      "Event loops run             0\n",
      "Processing slots            1\n",
      "\n",
      "Column          Type                            Origin\n",
      "------          ----                            ------\n",
      "Events          awkward::Record_eC7565dng       Dataset\n",
      "awkward_index_  Long64_t                        Define"
     ]
    }
   ],
   "source": [
    "df1.Describe().Print()"
   ]
  },
  {
   "cell_type": "markdown",
   "id": "f3e49d40",
   "metadata": {},
   "source": [
    "In this case, the access to the array records is as follows: `Events.nMuon()`, `Events.Muon_pt()`, `Events.Muon_eta()`, `Events.Muon_phi()`, `Events.Muon_mass()`. An `integer` index can be used to access the elements of the record: `Events.Muon_charge()[0]`. An `InvariantMass` C++ function can be applied to define a new `Dimuon_mass` column:"
   ]
  },
  {
   "cell_type": "code",
   "execution_count": 35,
   "id": "a6604b15",
   "metadata": {
    "slideshow": {
     "slide_type": "slide"
    }
   },
   "outputs": [],
   "source": [
    "df2 = df1.Filter('Events.nMuon() == 2')\\\n",
    "         .Filter('Events.Muon_charge()[0] != Events.Muon_charge()[1]')\\\n",
    "         .Define('Dimuon_mass', 'InvariantMass(Events.Muon_pt(), Events.Muon_eta(), Events.Muon_phi(), Events.Muon_mass())')\\\n",
    "         .Filter('Dimuon_mass > 70')\\\n",
    "         .Range(1000)"
   ]
  },
  {
   "cell_type": "code",
   "execution_count": 36,
   "id": "ea72ee4a",
   "metadata": {},
   "outputs": [
    {
     "name": "stdout",
     "output_type": "stream",
     "text": [
      "Dataframe from datasource Custom Datasource\n",
      "\n",
      "Property                Value\n",
      "--------                -----\n",
      "Columns in total            3\n",
      "Columns from defines        2\n",
      "Event loops run             0\n",
      "Processing slots            1\n",
      "\n",
      "Column          Type                            Origin\n",
      "------          ----                            ------\n",
      "Dimuon_mass     float                           Define\n",
      "Events          awkward::Record_eC7565dng       Dataset\n",
      "awkward_index_  Long64_t                        Define"
     ]
    }
   ],
   "source": [
    "df2.Describe().Print()"
   ]
  },
  {
   "cell_type": "code",
   "execution_count": 37,
   "id": "9a6aaa45",
   "metadata": {},
   "outputs": [
    {
     "name": "stdout",
     "output_type": "stream",
     "text": [
      "\n",
      "Approximate mass of the Z boson: 91.44 GeV\n",
      "\n"
     ]
    }
   ],
   "source": [
    "print('\\nApproximate mass of the Z boson: {:.2f} GeV\\n'.format(\n",
    "        df2.Mean('Dimuon_mass').GetValue()))"
   ]
  },
  {
   "cell_type": "markdown",
   "id": "11fb44b1",
   "metadata": {},
   "source": [
    "Let's put the array records as `RVec`s in an RDataFrame (see cell 3 for time comparison):"
   ]
  },
  {
   "cell_type": "code",
   "execution_count": 38,
   "id": "77db5805",
   "metadata": {
    "slideshow": {
     "slide_type": "slide"
    }
   },
   "outputs": [
    {
     "name": "stdout",
     "output_type": "stream",
     "text": [
      "CPU times: user 1.3 s, sys: 93.9 ms, total: 1.39 s\n",
      "Wall time: 1.42 s\n"
     ]
    }
   ],
   "source": [
    "%%time\n",
    "\n",
    "df = ak.to_rdataframe({\"ak_Muon_charge\": array[\"Muon_charge\"], \n",
    "                       \"ak_Muon_eta\": array[\"Muon_eta\"], \n",
    "                       \"ak_Muon_mass\": array[\"Muon_mass\"],\n",
    "                       \"ak_Muon_phi\": array[\"Muon_phi\"],\n",
    "                       \"ak_Muon_pt\": array[\"Muon_pt\"],\n",
    "                       \"ak_nMuon\": array[\"nMuon\"],\n",
    "                      })"
   ]
  },
  {
   "cell_type": "code",
   "execution_count": 39,
   "id": "69175ca4",
   "metadata": {
    "slideshow": {
     "slide_type": "slide"
    }
   },
   "outputs": [
    {
     "name": "stdout",
     "output_type": "stream",
     "text": [
      "Dataframe from datasource Custom Datasource\n",
      "\n",
      "Property                Value\n",
      "--------                -----\n",
      "Columns in total            7\n",
      "Columns from defines        1\n",
      "Event loops run             0\n",
      "Processing slots            1\n",
      "\n",
      "Column          Type                            Origin\n",
      "------          ----                            ------\n",
      "ak_Muon_charge  ROOT::VecOps::RVec<int32_t>     Dataset\n",
      "ak_Muon_eta     ROOT::VecOps::RVec<float>       Dataset\n",
      "ak_Muon_mass    ROOT::VecOps::RVec<float>       Dataset\n",
      "ak_Muon_phi     ROOT::VecOps::RVec<float>       Dataset\n",
      "ak_Muon_pt      ROOT::VecOps::RVec<float>       Dataset\n",
      "ak_nMuon        uint32_t                        Dataset\n",
      "awkward_index_  Long64_t                        Define"
     ]
    }
   ],
   "source": [
    "df.Describe().Print()"
   ]
  },
  {
   "cell_type": "markdown",
   "id": "5beda631",
   "metadata": {
    "slideshow": {
     "slide_type": "slide"
    }
   },
   "source": [
    "Let's define our own `invariant_mass` function (ok, it's a copy of [InvariantMass](https://root.cern.ch/doc/master/RVec_8hxx_source.html#l02923)):"
   ]
  },
  {
   "cell_type": "code",
   "execution_count": 40,
   "id": "1ee6356a",
   "metadata": {
    "slideshow": {
     "slide_type": "fragment"
    }
   },
   "outputs": [],
   "source": [
    "compiler = ROOT.gInterpreter.Declare"
   ]
  },
  {
   "cell_type": "code",
   "execution_count": 41,
   "id": "b0fc5dd4",
   "metadata": {
    "slideshow": {
     "slide_type": "fragment"
    }
   },
   "outputs": [],
   "source": [
    "done = compiler(\"\"\"\n",
    "template <typename T>\n",
    "T invariant_mass(const ROOT::VecOps::RVec<T>& pt, \n",
    "                 const ROOT::VecOps::RVec<T>& eta, \n",
    "                 const ROOT::VecOps::RVec<T>& phi, \n",
    "                 const ROOT::VecOps::RVec<T>& mass)\n",
    "{\n",
    "  const std::size_t size = pt.size();\n",
    " \n",
    "  R__ASSERT(eta.size() == size && phi.size() == size && mass.size() == size);\n",
    "\n",
    "  T x_sum = 0.;\n",
    "  T y_sum = 0.;\n",
    "  T z_sum = 0.;\n",
    "  T e_sum = 0.;\n",
    "\n",
    "   for (std::size_t i = 0u; i < size; ++ i) {\n",
    "     // Convert to (e, x, y, z) coordinate system and update sums\n",
    "     const auto x = pt[i] * std::cos(phi[i]);\n",
    "     x_sum += x;\n",
    "     const auto y = pt[i] * std::sin(phi[i]);\n",
    "     y_sum += y;\n",
    "     const auto z = pt[i] * std::sinh(eta[i]);\n",
    "     z_sum += z;\n",
    "     const auto e = std::sqrt(x * x + y * y + z * z + mass[i] * mass[i]);\n",
    "     e_sum += e;\n",
    "  }\n",
    "\n",
    "  // Return invariant mass with (+, -, -, -) metric\n",
    "  return std::sqrt(e_sum * e_sum - x_sum * x_sum - y_sum * y_sum - z_sum * z_sum);\n",
    "}\n",
    "\"\"\")\n",
    "assert done is True"
   ]
  },
  {
   "cell_type": "code",
   "execution_count": 42,
   "id": "963fa3c7",
   "metadata": {
    "slideshow": {
     "slide_type": "slide"
    }
   },
   "outputs": [],
   "source": [
    "df = df.Filter('ak_nMuon == 2')\\\n",
    "       .Filter('ak_Muon_charge[0] != ak_Muon_charge[1]')\\\n",
    "       .Define('ak_Dimuon_mass', 'invariant_mass(ak_Muon_pt, ak_Muon_eta, ak_Muon_phi, ak_Muon_mass)')\\\n",
    "       .Filter('ak_Dimuon_mass > 70')\\\n",
    "       .Range(1000)"
   ]
  },
  {
   "cell_type": "code",
   "execution_count": 43,
   "id": "e908d30a",
   "metadata": {
    "slideshow": {
     "slide_type": "slide"
    }
   },
   "outputs": [
    {
     "name": "stdout",
     "output_type": "stream",
     "text": [
      "Dataframe from datasource Custom Datasource\n",
      "\n",
      "Property                Value\n",
      "--------                -----\n",
      "Columns in total            8\n",
      "Columns from defines        2\n",
      "Event loops run             0\n",
      "Processing slots            1\n",
      "\n",
      "Column          Type                            Origin\n",
      "------          ----                            ------\n",
      "ak_Dimuon_mass  float                           Define\n",
      "ak_Muon_charge  ROOT::VecOps::RVec<int32_t>     Dataset\n",
      "ak_Muon_eta     ROOT::VecOps::RVec<float>       Dataset\n",
      "ak_Muon_mass    ROOT::VecOps::RVec<float>       Dataset\n",
      "ak_Muon_phi     ROOT::VecOps::RVec<float>       Dataset\n",
      "ak_Muon_pt      ROOT::VecOps::RVec<float>       Dataset\n",
      "ak_nMuon        uint32_t                        Dataset\n",
      "awkward_index_  Long64_t                        Define"
     ]
    }
   ],
   "source": [
    "df.Describe().Print()"
   ]
  },
  {
   "cell_type": "code",
   "execution_count": 44,
   "id": "ebc21004",
   "metadata": {},
   "outputs": [
    {
     "name": "stdout",
     "output_type": "stream",
     "text": [
      "\n",
      "Approximate mass of the Z boson: 91.44 GeV\n",
      "\n"
     ]
    }
   ],
   "source": [
    "print('\\nApproximate mass of the Z boson: {:.2f} GeV\\n'.format(\n",
    "        df.Mean('ak_Dimuon_mass').GetValue()))"
   ]
  },
  {
   "cell_type": "markdown",
   "id": "6f5e1295",
   "metadata": {
    "slideshow": {
     "slide_type": "slide"
    }
   },
   "source": [
    "Awkward Arrays and RDataFrame provide two very different ways of performing large scale.\n",
    "By adding the ability to convert between them, users get the best of both.\n",
    "The Awkward-RDF bridge provides users with more flexibility in mixing different packages and languages in their analyses.\n",
    "It is a part of Awkward version 2, which is currently a submodule `ak._v2`.\n",
    "Awkward version 2 will be fully released at the beginning of December 2022. You can see the time line [here](https://github.com/scikit-hep/awkward/wiki)."
   ]
  },
  {
   "attachments": {},
   "cell_type": "markdown",
   "id": "d638e0b0",
   "metadata": {},
   "source": [
    "<div>\n",
    "<img src=\"img/NSF%20logo.png\" width=\"80\" align=\"left\"/>\n",
    "</div>\n",
    "\n",
    "#### OAC-1836650"
   ]
  },
  {
   "cell_type": "code",
   "execution_count": null,
   "id": "3fa1cbd1",
   "metadata": {},
   "outputs": [],
   "source": []
  }
 ],
 "metadata": {
  "kernelspec": {
   "display_name": "Python 3 (ipykernel)",
   "language": "python",
   "name": "python3"
  },
  "language_info": {
   "codemirror_mode": {
    "name": "ipython",
    "version": 3
   },
   "file_extension": ".py",
   "mimetype": "text/x-python",
   "name": "python",
   "nbconvert_exporter": "python",
   "pygments_lexer": "ipython3",
   "version": "3.10.1"
  }
 },
 "nbformat": 4,
 "nbformat_minor": 5
}
