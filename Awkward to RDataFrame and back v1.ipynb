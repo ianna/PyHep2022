{
 "cells": [
  {
   "attachments": {},
   "cell_type": "markdown",
   "id": "14e4174c",
   "metadata": {
    "slideshow": {
     "slide_type": "slide"
    }
   },
   "source": [
    "<div>\n",
    "<img src=\"img/Princeton%20logo.png\" width=\"150\" align=\"right\"/>\n",
    "</div>\n",
    "\n",
    "<div>\n",
    "<img src=\"img/IRIS-HEP%20logo.png\" width=\"120\" align=\"left\"/>\n",
    "</div>\n",
    "\n",
    "<br>\n",
    "<br>\n",
    "<br>\n",
    "<br>\n",
    "\n",
    "# Awkward RDataFrame Tutorial\n",
    "### Ianna Osborne, Jim Pivarski \n",
    "*Princeton University*\n",
    "\n",
    "###### [PyHEP 2022 (virtual) Workshop, 12 - 16 Sept 2022](https://indico.cern.ch/event/1150631/timetable/)"
   ]
  },
  {
   "cell_type": "markdown",
   "id": "a2de2179",
   "metadata": {
    "slideshow": {
     "slide_type": "slide"
    }
   },
   "source": [
    "## Awkward Array and RDataFrame\n",
    "\n",
    "- Awkward Array and RDataFrame are two very different ways of performing calculations at scale.\n",
    "\n",
    "- [Awkward Array](https://github.com/scikit-hep/awkward) is a library for nested, variable-sized data, including arbitrary-length lists, records, mixed types, and missing data, using NumPy-like idioms.\n",
    "\n",
    "    * It is a cornerstone of user analyses in Python eco-system.\n",
    "\n",
    "- [RDataFrame](https://root.cern.ch/doc/master/classROOT_1_1RDataFrame.html) - [ROOT](https://root.cern.ch/doc/master/namespaceROOT.html)'s declarative analysis interface that supports many input formats.\n",
    "\n",
    "- The Awkward-RDataFrame bridge provides users with more flexibility in mixing different packages and languages in their analyses. \n",
    "    - There are numerous benefits of combining both Python and C++. Physicists can mix analyses using Awkward Arrays, Numba, and ROOT C++ in memory, without saving to disk and without leaving their environment."
   ]
  },
  {
   "cell_type": "markdown",
   "id": "293a13ff",
   "metadata": {
    "slideshow": {
     "slide_type": "slide"
    }
   },
   "source": [
    "## Awkward Array and other projects"
   ]
  },
  {
   "cell_type": "markdown",
   "id": "5d6174a8",
   "metadata": {
    "slideshow": {
     "slide_type": "-"
    }
   },
   "source": [
    "<div>\n",
    "<img src=\"img/Awkward%20Array%20and%20other%20projects.png\" width=\"800\" align=\"center\"/>\n",
    "</div>\n",
    "\n",
    "- See Jim's talk [Uproot, Awkward Array, hist, Vector: from basics to combinatorics](https://github.com/jpivarski-talks/2022-09-12-pyhep22-awkward-combinatorics/blob/main/pyhep2022-combinatorics.ipynb)\n",
    "- See Saransh's talk [Constructing HEP vectors and analyzing HEP data using Vector](https://github.com/Saransh-cpp/PyHEP22-Constructing-HEP-vectors-and-analyzing-HEP-data-using-Vector)\n",
    "- See Doug's [Dask Tutorial]() tomorrow\n",
    "- See Kush's [Uproot + Dask]() tomorrow\n",
    "- This tutorial covers Awkward Arrays <--> RDataFrame"
   ]
  },
  {
   "cell_type": "markdown",
   "id": "c641d0ed",
   "metadata": {
    "slideshow": {
     "slide_type": "slide"
    }
   },
   "source": [
    "## From Awkward Array to RDataFrame\n",
    "* The Awkward Array <--> RDataFrame is a part of Awkward Array version 2, which is currently a submodule `ak._v2`:"
   ]
  },
  {
   "cell_type": "code",
   "execution_count": 1,
   "id": "8435cb67",
   "metadata": {
    "slideshow": {
     "slide_type": "-"
    }
   },
   "outputs": [
    {
     "name": "stdout",
     "output_type": "stream",
     "text": [
      "Welcome to JupyROOT 6.26/02\n"
     ]
    }
   ],
   "source": [
    "import awkward._v2 as ak\n",
    "import ROOT"
   ]
  },
  {
   "cell_type": "markdown",
   "id": "38fcc1ed",
   "metadata": {},
   "source": [
    "* Let's define three simple arrays:"
   ]
  },
  {
   "cell_type": "code",
   "execution_count": 2,
   "id": "7b625c80",
   "metadata": {
    "slideshow": {
     "slide_type": "-"
    }
   },
   "outputs": [],
   "source": [
    "array_x = ak.Array(\n",
    "        [\n",
    "            {\"x\": [1.1, 1.2, 1.3]},\n",
    "            {\"x\": [2.1, 2.21]},\n",
    "            {\"x\": [3.1]},\n",
    "            {\"x\": [4.1, 4.2, 4.3, 4.4]},\n",
    "            {\"x\": [5.1]},\n",
    "        ]\n",
    "    )\n",
    "array_y = ak.Array([1, 2, 3, 4, 5])\n",
    "array_z = ak.Array([1.1, 2.2, 3.3, 4.4, 5.5])"
   ]
  },
  {
   "cell_type": "markdown",
   "id": "31eccf14",
   "metadata": {
    "slideshow": {
     "slide_type": "slide"
    }
   },
   "source": [
    "- The awkward style `ak.to_rdataframe` function requires a dictionary: \n",
    "    - a unique key defines a column name in RDataFrame\n",
    "- This operation does not execute the RDF event loop\n",
    "- There is a small overhead of generating [Awkward RDataSource C++ code](https://github.com/scikit-hep/awkward/blob/main/src/awkward/_v2/_connect/rdataframe/to_rdataframe.py#L152-L252)\n",
    "    - the array data is not copied"
   ]
  },
  {
   "cell_type": "code",
   "execution_count": 3,
   "id": "41a81708",
   "metadata": {
    "scrolled": true,
    "slideshow": {
     "slide_type": "-"
    }
   },
   "outputs": [],
   "source": [
    "df = ak.to_rdataframe({\"x\": array_x, \"y\": array_y, \"z\": array_z})"
   ]
  },
  {
   "cell_type": "code",
   "execution_count": 4,
   "id": "3fd7a5c8",
   "metadata": {
    "slideshow": {
     "slide_type": "slide"
    }
   },
   "outputs": [
    {
     "name": "stdout",
     "output_type": "stream",
     "text": [
      "Dataframe from datasource Custom Datasource\n",
      "\n",
      "Property                Value\n",
      "--------                -----\n",
      "Columns in total            4\n",
      "Columns from defines        1\n",
      "Event loops run             0\n",
      "Processing slots            1\n",
      "\n",
      "Column          Type                            Origin\n",
      "------          ----                            ------\n",
      "awkward_index_  Long64_t                        Define\n",
      "x               awkward::Record_cSHhLCN6nYg     Dataset\n",
      "y               int64_t                         Dataset\n",
      "z               double                          Dataset"
     ]
    }
   ],
   "source": [
    "df.Describe().Print()"
   ]
  },
  {
   "cell_type": "markdown",
   "id": "38125ab7",
   "metadata": {
    "slideshow": {
     "slide_type": "-"
    }
   },
   "source": [
    "* The `x` column contains an Awkward Array with a made-up type; `awkward::Record_cKnX5DyNVM`.\n",
    "\n",
    "* Awkward Arrays are dynamically typed, so in a C++ context, the type name is hashed. In practice, there is no need to know the type. The C++ code should use a placeholder type specifier `auto`. The type of the variable that is being declared will be automatically deduced from its initializer.\n",
    "\n",
    "* The `awkward_index_` column is always defined; it is used internally. "
   ]
  },
  {
   "cell_type": "markdown",
   "id": "27a645f4",
   "metadata": {
    "slideshow": {
     "slide_type": "slide"
    }
   },
   "source": [
    "## Columns type"
   ]
  },
  {
   "cell_type": "code",
   "execution_count": 5,
   "id": "bec21151",
   "metadata": {
    "slideshow": {
     "slide_type": "-"
    }
   },
   "outputs": [
    {
     "data": {
      "text/plain": [
       "'awkward::Record_cSHhLCN6nYg'"
      ]
     },
     "execution_count": 5,
     "metadata": {},
     "output_type": "execute_result"
    }
   ],
   "source": [
    "df.GetColumnType(\"x\")"
   ]
  },
  {
   "cell_type": "code",
   "execution_count": 6,
   "id": "eb57e3b2",
   "metadata": {
    "slideshow": {
     "slide_type": "-"
    }
   },
   "outputs": [
    {
     "data": {
      "text/plain": [
       "'int64_t'"
      ]
     },
     "execution_count": 6,
     "metadata": {},
     "output_type": "execute_result"
    }
   ],
   "source": [
    "df.GetColumnType(\"y\")"
   ]
  },
  {
   "cell_type": "code",
   "execution_count": 7,
   "id": "0b9cf26d",
   "metadata": {
    "slideshow": {
     "slide_type": "-"
    }
   },
   "outputs": [
    {
     "data": {
      "text/plain": [
       "'double'"
      ]
     },
     "execution_count": 7,
     "metadata": {},
     "output_type": "execute_result"
    }
   ],
   "source": [
    "df.GetColumnType(\"z\")"
   ]
  },
  {
   "cell_type": "markdown",
   "id": "b87b2fdf",
   "metadata": {
    "slideshow": {
     "slide_type": "slide"
    }
   },
   "source": [
    "## Operations on data in RDataFrame\n",
    "* Scheduling a filtering operation does not execute the event loop."
   ]
  },
  {
   "cell_type": "code",
   "execution_count": 8,
   "id": "c9065b0c",
   "metadata": {
    "slideshow": {
     "slide_type": "-"
    }
   },
   "outputs": [],
   "source": [
    "df = df.Filter(\"y > 2\")"
   ]
  },
  {
   "cell_type": "markdown",
   "id": "42387d16",
   "metadata": {},
   "source": [
    "* Let's check the state of the dataframe to make sure that the event loop was not triggered."
   ]
  },
  {
   "cell_type": "code",
   "execution_count": 9,
   "id": "f2290c06",
   "metadata": {
    "slideshow": {
     "slide_type": "-"
    }
   },
   "outputs": [
    {
     "name": "stdout",
     "output_type": "stream",
     "text": [
      "Dataframe from datasource Custom Datasource\n",
      "\n",
      "Property                Value\n",
      "--------                -----\n",
      "Columns in total            4\n",
      "Columns from defines        1\n",
      "Event loops run             0\n",
      "Processing slots            1\n",
      "\n",
      "Column          Type                            Origin\n",
      "------          ----                            ------\n",
      "awkward_index_  Long64_t                        Define\n",
      "x               awkward::Record_cSHhLCN6nYg     Dataset\n",
      "y               int64_t                         Dataset\n",
      "z               double                          Dataset"
     ]
    }
   ],
   "source": [
    "df.Describe().Print()"
   ]
  },
  {
   "cell_type": "markdown",
   "id": "23af5bc7",
   "metadata": {
    "slideshow": {
     "slide_type": "slide"
    }
   },
   "source": [
    "## Retrieve selected columns\n",
    "\n",
    "* The *`ak.from_rdataframe`* function converts selected columns to native Awkward Arrays.\n",
    "\n",
    "* The function takes a tuple of strings that are the RDF column names.\n",
    "\n",
    "* The event loop is triggered once to retrieve all selected columns."
   ]
  },
  {
   "cell_type": "code",
   "execution_count": 10,
   "id": "68d56865",
   "metadata": {
    "slideshow": {
     "slide_type": "-"
    }
   },
   "outputs": [],
   "source": [
    "out = ak.from_rdataframe(\n",
    "    df,\n",
    "    columns=(\"x\", \"y\", \"z\",),\n",
    ")"
   ]
  },
  {
   "cell_type": "code",
   "execution_count": 11,
   "id": "98baf009",
   "metadata": {
    "slideshow": {
     "slide_type": "-"
    }
   },
   "outputs": [
    {
     "data": {
      "text/plain": [
       "<Array [{y: 3, z: 3.3, x: {...}}, ..., {...}] type='3 * {y: int64, z: float...'>"
      ]
     },
     "execution_count": 11,
     "metadata": {},
     "output_type": "execute_result"
    }
   ],
   "source": [
    "out"
   ]
  },
  {
   "cell_type": "markdown",
   "id": "bd8645d9",
   "metadata": {
    "slideshow": {
     "slide_type": "slide"
    }
   },
   "source": [
    "## Filtered array type\n",
    "Let's check the type of the Awkward Array:"
   ]
  },
  {
   "cell_type": "code",
   "execution_count": 12,
   "id": "652876e7",
   "metadata": {
    "slideshow": {
     "slide_type": "-"
    }
   },
   "outputs": [
    {
     "name": "stdout",
     "output_type": "stream",
     "text": [
      "type: 3 * {\n",
      "    y: int64,\n",
      "    z: float64,\n",
      "    x: {\n",
      "        x: var * float64\n",
      "    }\n",
      "}\n",
      "[{y: 3, z: 3.3, x: {x: [3.1]}},\n",
      " {y: 4, z: 4.4, x: {x: [4.1, ..., 4.4]}},\n",
      " {y: 5, z: 5.5, x: {x: [5.1]}}]\n"
     ]
    }
   ],
   "source": [
    "out.show(type=True)"
   ]
  },
  {
   "cell_type": "markdown",
   "id": "cbe93c86",
   "metadata": {},
   "source": [
    "Let's check the filtered entries for `y > 2`:"
   ]
  },
  {
   "cell_type": "code",
   "execution_count": 13,
   "id": "bbd83cf3",
   "metadata": {
    "slideshow": {
     "slide_type": "-"
    }
   },
   "outputs": [
    {
     "name": "stdout",
     "output_type": "stream",
     "text": [
      "[3, 4, 5]\n",
      "[3.3, 4.4, 5.5]\n",
      "[{'x': [3.1]}, {'x': [4.1, 4.2, 4.3, 4.4]}, {'x': [5.1]}]\n"
     ]
    }
   ],
   "source": [
    "print(out[\"y\"].to_list())\n",
    "print(out[\"z\"].to_list())\n",
    "print(out[\"x\"].to_list())"
   ]
  },
  {
   "cell_type": "markdown",
   "id": "cd154a79",
   "metadata": {
    "slideshow": {
     "slide_type": "slide"
    }
   },
   "source": [
    "### Check to make sure we triggered the event loop only once:"
   ]
  },
  {
   "cell_type": "code",
   "execution_count": 14,
   "id": "fed3aca2",
   "metadata": {
    "slideshow": {
     "slide_type": "-"
    }
   },
   "outputs": [
    {
     "name": "stdout",
     "output_type": "stream",
     "text": [
      "Dataframe from datasource Custom Datasource\n",
      "\n",
      "Property                Value\n",
      "--------                -----\n",
      "Columns in total            4\n",
      "Columns from defines        1\n",
      "Event loops run             1\n",
      "Processing slots            1\n",
      "\n",
      "Column          Type                            Origin\n",
      "------          ----                            ------\n",
      "awkward_index_  Long64_t                        Define\n",
      "x               awkward::Record_cSHhLCN6nYg     Dataset\n",
      "y               int64_t                         Dataset\n",
      "z               double                          Dataset"
     ]
    }
   ],
   "source": [
    "df.Describe().Print()"
   ]
  },
  {
   "cell_type": "markdown",
   "id": "eef58b11",
   "metadata": {
    "slideshow": {
     "slide_type": "slide"
    }
   },
   "source": [
    "## Layout details\n",
    "The initial `RecordArray` is indexed: it becomes a content of an `IndexedArray` - because of the filter selection; it's content `NumpyArray` is not copied."
   ]
  },
  {
   "cell_type": "code",
   "execution_count": 15,
   "id": "170ef431",
   "metadata": {
    "slideshow": {
     "slide_type": "-"
    }
   },
   "outputs": [
    {
     "data": {
      "text/plain": [
       "<RecordArray is_tuple='false' len='3'>\n",
       "    <content index='0' field='y'>\n",
       "        <NumpyArray dtype='int64' len='3'>[3 4 5]</NumpyArray>\n",
       "    </content>\n",
       "    <content index='1' field='z'>\n",
       "        <NumpyArray dtype='float64' len='3'>[3.3 4.4 5.5]</NumpyArray>\n",
       "    </content>\n",
       "    <content index='2' field='x'>\n",
       "        <IndexedArray len='3'>\n",
       "            <index><Index dtype='int64' len='3'>[2 3 4]</Index></index>\n",
       "            <content><RecordArray is_tuple='false' len='5'>\n",
       "                <content index='0' field='x'>\n",
       "                    <ListArray len='5'>\n",
       "                        <starts><Index dtype='int64' len='5'>\n",
       "                            [ 0  3  5  6 10]\n",
       "                        </Index></starts>\n",
       "                        <stops><Index dtype='int64' len='5'>\n",
       "                            [ 3  5  6 10 11]\n",
       "                        </Index></stops>\n",
       "                        <content><NumpyArray dtype='float64' len='11'>\n",
       "                            [1.1  1.2  1.3  2.1  2.21 3.1  4.1  4.2  4.3  4.4\n",
       "                             5.1 ]\n",
       "                        </NumpyArray></content>\n",
       "                    </ListArray>\n",
       "                </content>\n",
       "            </RecordArray></content>\n",
       "        </IndexedArray>\n",
       "    </content>\n",
       "</RecordArray>"
      ]
     },
     "execution_count": 15,
     "metadata": {},
     "output_type": "execute_result"
    }
   ],
   "source": [
    "out.layout"
   ]
  },
  {
   "cell_type": "markdown",
   "id": "9a5d216a",
   "metadata": {
    "slideshow": {
     "slide_type": "slide"
    }
   },
   "source": [
    "## More detailed check\n",
    "* Is the array type as expected? Yes.\n",
    "* Is its layout the same? No."
   ]
  },
  {
   "cell_type": "code",
   "execution_count": 16,
   "id": "06e3a4ef",
   "metadata": {},
   "outputs": [
    {
     "name": "stdout",
     "output_type": "stream",
     "text": [
      "type: 3 * {\n",
      "    y: int64,\n",
      "    z: float64,\n",
      "    x: {\n",
      "        x: var * float64\n",
      "    }\n",
      "}\n",
      "[{y: 3, z: 3.3, x: {x: [3.1]}},\n",
      " {y: 4, z: 4.4, x: {x: [4.1, ..., 4.4]}},\n",
      " {y: 5, z: 5.5, x: {x: [5.1]}}]\n"
     ]
    }
   ],
   "source": [
    "array_yzx = ak.Array({\"y\": array_y, \"z\": array_z, \"x\": array_x})\n",
    "array_yzx[array_yzx[\"y\"] > 2].show(type=True)"
   ]
  },
  {
   "cell_type": "code",
   "execution_count": 17,
   "id": "224e1288",
   "metadata": {
    "slideshow": {
     "slide_type": "slide"
    }
   },
   "outputs": [
    {
     "data": {
      "text/plain": [
       "<IndexedArray len='3'>\n",
       "    <index><Index dtype='int64' len='3'>\n",
       "        [2 3 4]\n",
       "    </Index></index>\n",
       "    <content><RecordArray is_tuple='false' len='5'>\n",
       "        <content index='0' field='y'>\n",
       "            <NumpyArray dtype='int64' len='5'>[1 2 3 4 5]</NumpyArray>\n",
       "        </content>\n",
       "        <content index='1' field='z'>\n",
       "            <NumpyArray dtype='float64' len='5'>[1.1 2.2 3.3 4.4 5.5]</NumpyArray>\n",
       "        </content>\n",
       "        <content index='2' field='x'>\n",
       "            <RecordArray is_tuple='false' len='5'>\n",
       "                <content index='0' field='x'>\n",
       "                    <ListOffsetArray len='5'>\n",
       "                        <offsets><Index dtype='int64' len='6'>\n",
       "                            [ 0  3  5  6 10 11]\n",
       "                        </Index></offsets>\n",
       "                        <content><NumpyArray dtype='float64' len='11'>\n",
       "                            [1.1  1.2  1.3  2.1  2.21 3.1  4.1  4.2  4.3  4.4\n",
       "                             5.1 ]\n",
       "                        </NumpyArray></content>\n",
       "                    </ListOffsetArray>\n",
       "                </content>\n",
       "            </RecordArray>\n",
       "        </content>\n",
       "    </RecordArray></content>\n",
       "</IndexedArray>"
      ]
     },
     "execution_count": 17,
     "metadata": {},
     "output_type": "execute_result"
    }
   ],
   "source": [
    "array_yzx[array_yzx[\"y\"] > 2].layout"
   ]
  },
  {
   "attachments": {},
   "cell_type": "markdown",
   "id": "80195401",
   "metadata": {
    "slideshow": {
     "slide_type": "slide"
    }
   },
   "source": [
    "## From RDataFrame to Awkward Array\n",
    "\n",
    "The *`ak.from_rdataframe`* function converts selected columns to native Awkward Arrays. The function takes a tuple of strings that are the RDF column names and recognizes the following column data types:\n",
    "\n",
    "- Primitive types: `integer`, `float`, `double`, `std::complex<double>`, etc.\n",
    "- Lists of primitive types and the arbitrary depth nested lists of primitive types: `std::vector<double>`, `RVec<int>`, etc.\n",
    "- Awkward types: run-time generated types derived from `awkward::ArrayView` or `awkward::RecordView`\n",
    "  - no copy required because Awkward Arrays are immutable\n",
    "<div>\n",
    "<img src=\"img/Awkward%20types.png\" width=\"500\" align=\"left\"/>\n",
    "</div>"
   ]
  },
  {
   "cell_type": "markdown",
   "id": "2b3a4cc0",
   "metadata": {
    "slideshow": {
     "slide_type": "slide"
    }
   },
   "source": [
    "## Data analysis: from C++ to Python"
   ]
  },
  {
   "cell_type": "code",
   "execution_count": 18,
   "id": "c1cd262d",
   "metadata": {
    "slideshow": {
     "slide_type": "-"
    }
   },
   "outputs": [],
   "source": [
    "import awkward._v2 as ak\n",
    "import ROOT"
   ]
  },
  {
   "cell_type": "code",
   "execution_count": 19,
   "id": "943787c4",
   "metadata": {
    "slideshow": {
     "slide_type": "-"
    }
   },
   "outputs": [],
   "source": [
    "df = ROOT.RDataFrame('Events', 'Run2012BC_DoubleMuParked_Muons.root')"
   ]
  },
  {
   "cell_type": "markdown",
   "id": "d5cad6cc",
   "metadata": {
    "slideshow": {
     "slide_type": "-"
    }
   },
   "source": [
    "CMS data from [CERN Open Data portal DOI:10.7483/OPENDATA.CMS.LVG5.QT81](http://opendata.web.cern.ch/record/12341) \n",
    "- This dataset contains about 60 mio. data events from the CMS detector taken in 2012 during Run B and C.\n",
    "- The original AOD dataset is converted to the NanoAOD format and reduced to the muon collections.\n",
    "- The dataset in the file is called <b>Events</b> and contains the following columns:\n",
    " - <b>nMuon</b>\t`unsigned int`\t*Number of muons in this event*\n",
    " - <b>Muon_pt</b>\t`float[nMuon]`\t*Transverse momentum of the muons (stored as an array of size nMuon)*\n",
    " - <b>Muon_eta</b>\t`float[nMuon]`\t*Pseudorapidity of the muons*\n",
    " - <b>Muon_phi</b>\t`float[nMuon]`\t*Azimuth of the muons*\n",
    " - <b>Muon_mass</b>\t`float[nMuon]`\t*Mass of the muons*\n",
    " - <b>Muon_charge</b>\t`int[nMuon]`\t*Charge of the muons (either 1 or -1)*"
   ]
  },
  {
   "cell_type": "code",
   "execution_count": 20,
   "id": "0661e117",
   "metadata": {
    "scrolled": true,
    "slideshow": {
     "slide_type": "slide"
    }
   },
   "outputs": [
    {
     "name": "stdout",
     "output_type": "stream",
     "text": [
      "Dataframe from TChain Events in file Run2012BC_DoubleMuParked_Muons.root\n",
      "\n",
      "Property                Value\n",
      "--------                -----\n",
      "Columns in total            6\n",
      "Columns from defines        0\n",
      "Event loops run             0\n",
      "Processing slots            1\n",
      "\n",
      "Column          Type                            Origin\n",
      "------          ----                            ------\n",
      "Muon_charge     ROOT::VecOps::RVec<Int_t>       Dataset\n",
      "Muon_eta        ROOT::VecOps::RVec<Float_t>     Dataset\n",
      "Muon_mass       ROOT::VecOps::RVec<Float_t>     Dataset\n",
      "Muon_phi        ROOT::VecOps::RVec<Float_t>     Dataset\n",
      "Muon_pt         ROOT::VecOps::RVec<Float_t>     Dataset\n",
      "nMuon           UInt_t                          Dataset"
     ]
    }
   ],
   "source": [
    "# Describe the state of the dataframe.\n",
    "# Note that this operation is not running the event loop.\n",
    "df.Describe().Print()"
   ]
  },
  {
   "cell_type": "markdown",
   "id": "9daa394c",
   "metadata": {
    "slideshow": {
     "slide_type": "slide"
    }
   },
   "source": [
    "Build a small analysis studying the invariant mass of dimuon systems.\n",
    "- See [ROOT tutorial](https://root.cern.ch/doc/master/df102__NanoAODDimuonAnalysis_8py.html) for more information."
   ]
  },
  {
   "cell_type": "code",
   "execution_count": 21,
   "id": "b6098a90",
   "metadata": {
    "slideshow": {
     "slide_type": "-"
    }
   },
   "outputs": [],
   "source": [
    "df = df.Filter('nMuon == 2')\\\n",
    "       .Filter('Muon_charge[0] != Muon_charge[1]')\\\n",
    "       .Define('Dimuon_mass', 'InvariantMass(Muon_pt, Muon_eta, Muon_phi, Muon_mass)')\\\n",
    "       .Filter('Dimuon_mass > 70')\\\n",
    "       .Range(1000)"
   ]
  },
  {
   "cell_type": "markdown",
   "id": "c284d321",
   "metadata": {
    "slideshow": {
     "slide_type": "-"
    }
   },
   "source": [
    "- Trigger the event loop by asking for the mean of the dimuon mass:"
   ]
  },
  {
   "cell_type": "code",
   "execution_count": 22,
   "id": "52a9922b",
   "metadata": {
    "slideshow": {
     "slide_type": "-"
    }
   },
   "outputs": [
    {
     "name": "stdout",
     "output_type": "stream",
     "text": [
      "\n",
      "Approximate mass of the Z boson: 91.44 GeV\n",
      "\n"
     ]
    }
   ],
   "source": [
    "print('\\nApproximate mass of the Z boson: {:.2f} GeV\\n'.format(\n",
    "        df.Mean('Dimuon_mass').GetValue()))"
   ]
  },
  {
   "cell_type": "markdown",
   "id": "af53f8a0",
   "metadata": {
    "slideshow": {
     "slide_type": "slide"
    }
   },
   "source": [
    "### Check that this operation triggered the event loop once"
   ]
  },
  {
   "cell_type": "code",
   "execution_count": 23,
   "id": "ab8bbd41",
   "metadata": {
    "slideshow": {
     "slide_type": "-"
    }
   },
   "outputs": [
    {
     "name": "stdout",
     "output_type": "stream",
     "text": [
      "Dataframe from TChain Events in file Run2012BC_DoubleMuParked_Muons.root\n",
      "\n",
      "Property                Value\n",
      "--------                -----\n",
      "Columns in total            7\n",
      "Columns from defines        1\n",
      "Event loops run             1\n",
      "Processing slots            1\n",
      "\n",
      "Column          Type                            Origin\n",
      "------          ----                            ------\n",
      "Dimuon_mass     float                           Define\n",
      "Muon_charge     ROOT::VecOps::RVec<Int_t>       Dataset\n",
      "Muon_eta        ROOT::VecOps::RVec<Float_t>     Dataset\n",
      "Muon_mass       ROOT::VecOps::RVec<Float_t>     Dataset\n",
      "Muon_phi        ROOT::VecOps::RVec<Float_t>     Dataset\n",
      "Muon_pt         ROOT::VecOps::RVec<Float_t>     Dataset\n",
      "nMuon           UInt_t                          Dataset"
     ]
    }
   ],
   "source": [
    "df.Describe().Print()"
   ]
  },
  {
   "cell_type": "markdown",
   "id": "e0b1a5de",
   "metadata": {
    "slideshow": {
     "slide_type": "slide"
    }
   },
   "source": [
    "## Convert selected columns to Awkward Array\n",
    "\n",
    "- The scheduled analysis executed the event loop once\n",
    "- A user can move the data to Python by taking it out as an Awkward Array\n",
    "- If the columns type is not `awkward`, the `ROOT::VecOps::RVec`s content is copied to a Numpy buffer"
   ]
  },
  {
   "cell_type": "code",
   "execution_count": 24,
   "id": "ba5d09d5",
   "metadata": {
    "slideshow": {
     "slide_type": "-"
    }
   },
   "outputs": [],
   "source": [
    "array = ak.from_rdataframe(\n",
    "        df,\n",
    "        columns=(\n",
    "            \"Dimuon_mass\",\n",
    "            \"Muon_charge\",\n",
    "            \"Muon_eta\",\n",
    "            \"Muon_mass\",\n",
    "            \"Muon_phi\",\n",
    "            \"Muon_pt\",\n",
    "            \"nMuon\",\n",
    "        ),\n",
    "    )"
   ]
  },
  {
   "cell_type": "code",
   "execution_count": 25,
   "id": "8fa8ae46",
   "metadata": {
    "slideshow": {
     "slide_type": "slide"
    }
   },
   "outputs": [
    {
     "data": {
      "text/plain": [
       "<Array [{Dimuon_mass: 114, ...}, ..., {...}] type='1000 * {Dimuon_mass: flo...'>"
      ]
     },
     "execution_count": 25,
     "metadata": {},
     "output_type": "execute_result"
    }
   ],
   "source": [
    "array"
   ]
  },
  {
   "cell_type": "markdown",
   "id": "9951fb42",
   "metadata": {
    "slideshow": {
     "slide_type": "slide"
    }
   },
   "source": [
    "## Array type"
   ]
  },
  {
   "cell_type": "code",
   "execution_count": 26,
   "id": "8e9adfea",
   "metadata": {
    "slideshow": {
     "slide_type": "-"
    }
   },
   "outputs": [
    {
     "name": "stdout",
     "output_type": "stream",
     "text": [
      "type: 1000 * {\n",
      "    Dimuon_mass: float32,\n",
      "    Muon_charge: var * int32,\n",
      "    Muon_eta: var * float32,\n",
      "    Muon_mass: var * float32,\n",
      "    Muon_phi: var * float32,\n",
      "    Muon_pt: var * float32,\n",
      "    nMuon: uint32\n",
      "}\n",
      "[{Dimuon_mass: 114, Muon_charge: [-1, 1], Muon_eta: [...], Muon_mass: ..., ...},\n",
      " {Dimuon_mass: 88.3, Muon_charge: [1, -1], Muon_eta: [2.2, ...], ...},\n",
      " {Dimuon_mass: 88.3, Muon_charge: [1, -1], Muon_eta: [...], ...},\n",
      " {Dimuon_mass: 91.3, Muon_charge: [1, -1], Muon_eta: [...], ...},\n",
      " {Dimuon_mass: 93.6, Muon_charge: [1, -1], Muon_eta: [...], ...},\n",
      " {Dimuon_mass: 90.9, Muon_charge: [-1, 1], Muon_eta: [...], ...},\n",
      " {Dimuon_mass: 89.2, Muon_charge: [-1, 1], Muon_eta: [...], ...},\n",
      " {Dimuon_mass: 82.3, Muon_charge: [-1, 1], Muon_eta: [...], ...},\n",
      " {Dimuon_mass: 94.6, Muon_charge: [1, -1], Muon_eta: [...], ...},\n",
      " {Dimuon_mass: 89.2, Muon_charge: [-1, 1], Muon_eta: [...], ...},\n",
      " ...,\n",
      " {Dimuon_mass: 86.4, Muon_charge: [-1, 1], Muon_eta: [...], ...},\n",
      " {Dimuon_mass: 77.1, Muon_charge: [-1, 1], Muon_eta: [1.1, ...], ...},\n",
      " {Dimuon_mass: 89.8, Muon_charge: [-1, 1], Muon_eta: [...], ...},\n",
      " {Dimuon_mass: 87.3, Muon_charge: [-1, 1], Muon_eta: [...], ...},\n",
      " {Dimuon_mass: 92, Muon_charge: [1, -1], Muon_eta: [...], Muon_mass: ..., ...},\n",
      " {Dimuon_mass: 70.7, Muon_charge: [1, -1], Muon_eta: [...], ...},\n",
      " {Dimuon_mass: 89.6, Muon_charge: [-1, 1], Muon_eta: [...], ...},\n",
      " {Dimuon_mass: 91.1, Muon_charge: [1, -1], Muon_eta: [...], ...},\n",
      " {Dimuon_mass: 90.1, Muon_charge: [1, -1], Muon_eta: [...], ...}]\n"
     ]
    }
   ],
   "source": [
    "array.show(type=True)"
   ]
  },
  {
   "cell_type": "markdown",
   "id": "17ae1eb2",
   "metadata": {
    "slideshow": {
     "slide_type": "slide"
    }
   },
   "source": [
    "## Check RDataFrame state\n",
    "- The first event loop was executed when the analysis was run\n",
    "- The second event loop was executed when the columns were retrieved"
   ]
  },
  {
   "cell_type": "code",
   "execution_count": 27,
   "id": "e1d39f44",
   "metadata": {
    "slideshow": {
     "slide_type": "-"
    }
   },
   "outputs": [
    {
     "name": "stdout",
     "output_type": "stream",
     "text": [
      "Dataframe from TChain Events in file Run2012BC_DoubleMuParked_Muons.root\n",
      "\n",
      "Property                Value\n",
      "--------                -----\n",
      "Columns in total            7\n",
      "Columns from defines        1\n",
      "Event loops run             2\n",
      "Processing slots            1\n",
      "\n",
      "Column          Type                            Origin\n",
      "------          ----                            ------\n",
      "Dimuon_mass     float                           Define\n",
      "Muon_charge     ROOT::VecOps::RVec<Int_t>       Dataset\n",
      "Muon_eta        ROOT::VecOps::RVec<Float_t>     Dataset\n",
      "Muon_mass       ROOT::VecOps::RVec<Float_t>     Dataset\n",
      "Muon_phi        ROOT::VecOps::RVec<Float_t>     Dataset\n",
      "Muon_pt         ROOT::VecOps::RVec<Float_t>     Dataset\n",
      "nMuon           UInt_t                          Dataset"
     ]
    }
   ],
   "source": [
    "df.Describe().Print()"
   ]
  },
  {
   "cell_type": "code",
   "execution_count": 28,
   "id": "b588be5e",
   "metadata": {
    "slideshow": {
     "slide_type": "slide"
    }
   },
   "outputs": [
    {
     "data": {
      "text/plain": [
       "<Array [114, 88.3, 88.3, 91.3, ..., 89.6, 91.1, 90.1] type='1000 * float32'>"
      ]
     },
     "execution_count": 28,
     "metadata": {},
     "output_type": "execute_result"
    }
   ],
   "source": [
    "array[\"Dimuon_mass\"]"
   ]
  },
  {
   "cell_type": "markdown",
   "id": "13304b4f",
   "metadata": {
    "slideshow": {
     "slide_type": "slide"
    }
   },
   "source": [
    "## Data as Awkward Arrays in Python\n",
    "* See Alexander's talk [End-to-end physics analysis with Open Data: the Analysis Grand Challenge](https://github.com/alexander-held/PyHEP-2022-AGC)\n",
    "* See Jim's talk [Uproot, Awkward Array, hist, Vector: from basics to combinatorics](https://github.com/jpivarski-talks/2022-09-12-pyhep22-awkward-combinatorics/blob/main/pyhep2022-combinatorics.ipynb)"
   ]
  },
  {
   "cell_type": "code",
   "execution_count": 29,
   "id": "4aaf786f",
   "metadata": {},
   "outputs": [],
   "source": [
    "import matplotlib\n",
    "import matplotlib.pyplot as plt\n",
    "\n",
    "import hist"
   ]
  },
  {
   "cell_type": "code",
   "execution_count": 30,
   "id": "f900b5ae",
   "metadata": {
    "slideshow": {
     "slide_type": "slide"
    }
   },
   "outputs": [
    {
     "data": {
      "image/png": "[encoded data removed]",
      "text/plain": [
       "<Figure size 432x288 with 1 Axes>"
      ]
     },
     "metadata": {
      "needs_background": "light"
     },
     "output_type": "display_data"
    }
   ],
   "source": [
    "(\n",
    "    hist.Hist.new.Regular(100, 70, 200, name=\"Dimuon mass m $\\mu$$\\mu$ [GeV]\")\n",
    "    .Weight()\n",
    "    .fill(ak.flatten(array[\"Dimuon_mass\"], axis = -1),\n",
    "        weight=ak.flatten(array[\"Dimuon_mass\"], axis = -1),)\n",
    "    .plot()\n",
    ");"
   ]
  },
  {
   "cell_type": "code",
   "execution_count": 31,
   "id": "92fa0b84",
   "metadata": {
    "slideshow": {
     "slide_type": "slide"
    }
   },
   "outputs": [
    {
     "data": {
      "image/png": "[encoded data removed]",
      "text/plain": [
       "<Figure size 432x288 with 2 Axes>"
      ]
     },
     "metadata": {
      "needs_background": "light"
     },
     "output_type": "display_data"
    }
   ],
   "source": [
    "(\n",
    "    hist.Hist.new.Reg(100, 70, 150, name=\"mu_mu\", \\\n",
    "    label=\"Dimuon mass m $\\mu$$\\mu$ [GeV]\").Double().fill( \\\n",
    "    ak.flatten(array[\"Dimuon_mass\"], axis = -1))\n",
    "    .plot_pull(\"gauss\", \n",
    "        eb_ecolor=\"steelblue\", eb_mfc=\"steelblue\", eb_mec=\"steelblue\", \n",
    "        eb_fmt=\"o\", eb_ms=6, eb_capsize=1, eb_capthick=2, eb_alpha=0.8,\n",
    "        fp_c=\"hotpink\", fp_ls=\"-\", fp_lw=2, fp_alpha=0.8, bar_fc=\"royalblue\",\n",
    "        pp_num=3, pp_fc=\"royalblue\", pp_alpha=0.618, pp_ec=None, ub_alpha=0.2,\n",
    "    )\n",
    ");"
   ]
  },
  {
   "cell_type": "code",
   "execution_count": 32,
   "id": "dfeb4f96",
   "metadata": {
    "scrolled": true,
    "slideshow": {
     "slide_type": "slide"
    }
   },
   "outputs": [
    {
     "data": {
      "image/png": "[encoded data removed]",
      "text/plain": [
       "<Figure size 432x288 with 1 Axes>"
      ]
     },
     "metadata": {
      "needs_background": "light"
     },
     "output_type": "display_data"
    }
   ],
   "source": [
    "plt.hist(array[\"Dimuon_mass\"], bins=200)\n",
    "plt.xlim(70, 200)\n",
    "plt.yscale('log')\n",
    "plt.grid(True)"
   ]
  },
  {
   "cell_type": "markdown",
   "id": "3e080423",
   "metadata": {
    "slideshow": {
     "slide_type": "slide"
    }
   },
   "source": [
    "## NumPy and Awkward Arrays\n",
    "* Let's check that we get the same result using NumPy function:\n",
    "* Approximate mass of the Z boson: <b>91.44 GeV</b> - see cell 22 result "
   ]
  },
  {
   "cell_type": "code",
   "execution_count": 33,
   "id": "eb84a10d",
   "metadata": {
    "slideshow": {
     "slide_type": "fragment"
    }
   },
   "outputs": [],
   "source": [
    "import numpy as np"
   ]
  },
  {
   "cell_type": "code",
   "execution_count": 34,
   "id": "f97fc534",
   "metadata": {
    "slideshow": {
     "slide_type": "fragment"
    }
   },
   "outputs": [
    {
     "data": {
      "text/plain": [
       "91.438576"
      ]
     },
     "execution_count": 34,
     "metadata": {},
     "output_type": "execute_result"
    }
   ],
   "source": [
    "np.mean(array[\"Dimuon_mass\"])"
   ]
  },
  {
   "cell_type": "markdown",
   "id": "806b2c5e",
   "metadata": {
    "slideshow": {
     "slide_type": "slide"
    }
   },
   "source": [
    "## Large-scale Awkward data roundtrip"
   ]
  },
  {
   "cell_type": "markdown",
   "id": "377ee6f8",
   "metadata": {
    "slideshow": {
     "slide_type": "-"
    }
   },
   "source": [
    "* The multi-threading can be enabled with:\n",
    "```python\n",
    "ROOT.ROOT.EnableImplicitMT()\n",
    "```\n",
    "* Create a dataframe:"
   ]
  },
  {
   "cell_type": "code",
   "execution_count": 35,
   "id": "0a11a7e2",
   "metadata": {
    "slideshow": {
     "slide_type": "-"
    }
   },
   "outputs": [],
   "source": [
    "df = ROOT.RDataFrame('Events', 'Run2012BC_DoubleMuParked_Muons.root')"
   ]
  },
  {
   "cell_type": "markdown",
   "id": "09f1aac4",
   "metadata": {
    "slideshow": {
     "slide_type": "slide"
    }
   },
   "source": [
    "## From RDataFrame to Awkward"
   ]
  },
  {
   "cell_type": "markdown",
   "id": "6869bbd1",
   "metadata": {
    "slideshow": {
     "slide_type": "-"
    }
   },
   "source": [
    "Let's take out all 60 mio. data events as an Awkward Array:"
   ]
  },
  {
   "cell_type": "code",
   "execution_count": 36,
   "id": "190d5bf6",
   "metadata": {
    "slideshow": {
     "slide_type": "fragment"
    }
   },
   "outputs": [],
   "source": [
    "array = ak.from_rdataframe(\n",
    "        df,\n",
    "        columns=(\n",
    "            \"Muon_charge\",\n",
    "            \"Muon_eta\",\n",
    "            \"Muon_mass\",\n",
    "            \"Muon_phi\",\n",
    "            \"Muon_pt\",\n",
    "            \"nMuon\",\n",
    "        ),\n",
    "    )"
   ]
  },
  {
   "cell_type": "code",
   "execution_count": 37,
   "id": "be294f04",
   "metadata": {
    "slideshow": {
     "slide_type": "fragment"
    }
   },
   "outputs": [
    {
     "data": {
      "text/plain": [
       "<Array [{Muon_charge: [...], ...}, ..., {...}] type='61540413 * {Muon_charg...'>"
      ]
     },
     "execution_count": 37,
     "metadata": {},
     "output_type": "execute_result"
    }
   ],
   "source": [
    "array"
   ]
  },
  {
   "cell_type": "code",
   "execution_count": 38,
   "id": "3f81d1cd",
   "metadata": {
    "slideshow": {
     "slide_type": "slide"
    }
   },
   "outputs": [
    {
     "name": "stdout",
     "output_type": "stream",
     "text": [
      "type: 61540413 * {\n",
      "    Muon_charge: var * int32,\n",
      "    Muon_eta: var * float32,\n",
      "    Muon_mass: var * float32,\n",
      "    Muon_phi: var * float32,\n",
      "    Muon_pt: var * float32,\n",
      "    nMuon: uint32\n",
      "}\n",
      "[{Muon_charge: [-1, -1], Muon_eta: [1.07, -0.564], Muon_mass: [...], ...},\n",
      " {Muon_charge: [1, -1], Muon_eta: [-0.428, 0.349], Muon_mass: [...], ...},\n",
      " {Muon_charge: [1], Muon_eta: [2.21], Muon_mass: [0.106], Muon_phi: ..., ...},\n",
      " {Muon_charge: [1, 1, 1, 1], Muon_eta: [-1.59, ...], Muon_mass: [...], ...},\n",
      " {Muon_charge: [-1, -1, 1, 1], Muon_eta: [-2.17, ...], Muon_mass: [...], ...},\n",
      " {Muon_charge: [-1, 1, -1], Muon_eta: [-1.37, ...], Muon_mass: [...], ...},\n",
      " {Muon_charge: [-1, 1], Muon_eta: [-0.532, -1], Muon_mass: [...], ...},\n",
      " {Muon_charge: [1, -1], Muon_eta: [-0.772, ...], Muon_mass: [...], ...},\n",
      " {Muon_charge: [-1, 1], Muon_eta: [0.442, 0.702], Muon_mass: [...], ...},\n",
      " {Muon_charge: [-1, 1], Muon_eta: [2.34, 2.35], Muon_mass: [...], ...},\n",
      " ...,\n",
      " {Muon_charge: [1, -1], Muon_eta: [0.252, 0.275], Muon_mass: [...], ...},\n",
      " {Muon_charge: [1, -1], Muon_eta: [1.27, 1.29], Muon_mass: [...], ...},\n",
      " {Muon_charge: [-1, 1], Muon_eta: [0.964, ...], Muon_mass: [...], ...},\n",
      " {Muon_charge: [-1, 1, 1], Muon_eta: [-0.728, ...], Muon_mass: [...], ...},\n",
      " {Muon_charge: [1, -1], Muon_eta: [0.154, 0.0944], Muon_mass: [...], ...},\n",
      " {Muon_charge: [-1, 1], Muon_eta: [-1.92, 0.378], Muon_mass: [...], ...},\n",
      " {Muon_charge: [-1, -1, -1, -1], Muon_eta: [-0.566, ...], Muon_mass: ..., ...},\n",
      " {Muon_charge: [-1, -1, -1], Muon_eta: [-1.47, ...], Muon_mass: [...], ...},\n",
      " {Muon_charge: [-1, 1], Muon_eta: [-2.15, 0.291], Muon_mass: [...], ...}]\n"
     ]
    }
   ],
   "source": [
    "array.show(type=True)"
   ]
  },
  {
   "cell_type": "markdown",
   "id": "6ef8bfed",
   "metadata": {
    "slideshow": {
     "slide_type": "slide"
    }
   },
   "source": [
    "## From Awkward to RDataFrame\n",
    "- Let's put the whole array in another RDataFrame as a <b>single</b> column <i>\"Events\"</i>\n",
    "    - The large-scale data is not copied:"
   ]
  },
  {
   "cell_type": "code",
   "execution_count": 39,
   "id": "15a10519",
   "metadata": {
    "slideshow": {
     "slide_type": "fragment"
    }
   },
   "outputs": [],
   "source": [
    "df1 = ak.to_rdataframe({\"Events\": array})"
   ]
  },
  {
   "cell_type": "code",
   "execution_count": 40,
   "id": "2b3d9211",
   "metadata": {
    "slideshow": {
     "slide_type": "slide"
    }
   },
   "outputs": [
    {
     "name": "stdout",
     "output_type": "stream",
     "text": [
      "Dataframe from datasource Custom Datasource\n",
      "\n",
      "Property                Value\n",
      "--------                -----\n",
      "Columns in total            2\n",
      "Columns from defines        1\n",
      "Event loops run             0\n",
      "Processing slots            1\n",
      "\n",
      "Column          Type                            Origin\n",
      "------          ----                            ------\n",
      "Events          awkward::Record_rbqdI7vOO88     Dataset\n",
      "awkward_index_  Long64_t                        Define"
     ]
    }
   ],
   "source": [
    "df1.Describe().Print()"
   ]
  },
  {
   "cell_type": "markdown",
   "id": "5dd28e0e",
   "metadata": {
    "slideshow": {
     "slide_type": "slide"
    }
   },
   "source": [
    "## Awkward column type\n",
    "- The Awkward array records are accessed through functions\n",
    "- The function names are the same as the original array record field names: \n",
    "    - `Events.nMuon()`, `Events.Muon_pt()`, `Events.Muon_eta()`, `Events.Muon_phi()`, `Events.Muon_mass()`\n",
    "- An `integer` index can be used to access the elements of the record: `Events.Muon_charge()[0]`\n",
    "- An `InvariantMass` C++ function can be applied to define a new `Dimuon_mass` column:\n",
    "```python\n",
    "df2 = df1.Filter('Events.nMuon() == 2')\n",
    "         .Filter('Events.Muon_charge()[0] != Events.Muon_charge()[1]')\n",
    "         .Define('Dimuon_mass',\n",
    "                 'InvariantMass(Events.Muon_pt(), Events.Muon_eta(), Events.Muon_phi(), Events.Muon_mass())')\n",
    "         .Filter('Dimuon_mass > 70')\n",
    "         .Range(1000)\n",
    "```"
   ]
  },
  {
   "cell_type": "code",
   "execution_count": 41,
   "id": "24138dbb",
   "metadata": {
    "slideshow": {
     "slide_type": "slide"
    }
   },
   "outputs": [],
   "source": [
    "df2 = df1.Filter('Events.nMuon() == 2')\\\n",
    "         .Filter('Events.Muon_charge()[0] != Events.Muon_charge()[1]')\\\n",
    "         .Define('Dimuon_mass',\\\n",
    "                 'InvariantMass(Events.Muon_pt(), Events.Muon_eta(), Events.Muon_phi(), Events.Muon_mass())')\\\n",
    "         .Filter('Dimuon_mass > 70')\\\n",
    "         .Range(1000)"
   ]
  },
  {
   "cell_type": "code",
   "execution_count": 42,
   "id": "55be125b",
   "metadata": {
    "slideshow": {
     "slide_type": "fragment"
    }
   },
   "outputs": [
    {
     "name": "stdout",
     "output_type": "stream",
     "text": [
      "Dataframe from datasource Custom Datasource\n",
      "\n",
      "Property                Value\n",
      "--------                -----\n",
      "Columns in total            3\n",
      "Columns from defines        2\n",
      "Event loops run             0\n",
      "Processing slots            1\n",
      "\n",
      "Column          Type                            Origin\n",
      "------          ----                            ------\n",
      "Dimuon_mass     float                           Define\n",
      "Events          awkward::Record_rbqdI7vOO88     Dataset\n",
      "awkward_index_  Long64_t                        Define"
     ]
    }
   ],
   "source": [
    "df2.Describe().Print()"
   ]
  },
  {
   "cell_type": "code",
   "execution_count": 43,
   "id": "6164c439",
   "metadata": {
    "slideshow": {
     "slide_type": "fragment"
    }
   },
   "outputs": [
    {
     "name": "stdout",
     "output_type": "stream",
     "text": [
      "\n",
      "Approximate mass of the Z boson: 91.44 GeV\n",
      "\n"
     ]
    }
   ],
   "source": [
    "print('\\nApproximate mass of the Z boson: {:.2f} GeV\\n'.format(\n",
    "        df2.Mean('Dimuon_mass').GetValue()))"
   ]
  },
  {
   "cell_type": "markdown",
   "id": "be4461b3",
   "metadata": {
    "slideshow": {
     "slide_type": "slide"
    }
   },
   "source": [
    "## User-defined C++ lambda functions\n",
    "Let's define our own `invariant_mass` function that takes an Awkward type (see, the original [InvariantMass](https://root.cern.ch/doc/master/RVec_8hxx_source.html#l02923)):"
   ]
  },
  {
   "cell_type": "code",
   "execution_count": 44,
   "id": "9bd606ee",
   "metadata": {
    "slideshow": {
     "slide_type": "slide"
    }
   },
   "outputs": [],
   "source": [
    "rdf3 = df1.Define(\"dimuon_mass\", \"\"\"\n",
    "float dimuon_mass = 0.;\n",
    "\n",
    "const auto& pt = Events.Muon_pt();\n",
    "const auto& eta = Events.Muon_eta();\n",
    "const auto& phi = Events.Muon_phi();\n",
    "const auto& mass = Events.Muon_mass();\n",
    "const auto& nMuons = Events.nMuon();\n",
    "\n",
    "if (nMuons == 2) {\n",
    "    if (Events.Muon_charge()[0] != Events.Muon_charge()[1]) {\n",
    "        const std::size_t size = Events.Muon_pt().size();\n",
    "\n",
    "        R__ASSERT(eta.size() == size && phi.size() == size && mass.size() == size);\n",
    "\n",
    "        float x_sum = 0.;\n",
    "        float y_sum = 0.;\n",
    "        float z_sum = 0.;\n",
    "        float e_sum = 0.;\n",
    "\n",
    "        for (std::size_t i = 0u; i < size; ++ i) {\n",
    "          // Convert to (e, x, y, z) coordinate system and update sums\n",
    "          auto x = pt[i] * std::cos(phi[i]);\n",
    "          x_sum += x;\n",
    "\n",
    "          auto y = pt[i] * std::sin(phi[i]);\n",
    "          y_sum += y;\n",
    "\n",
    "          auto z = pt[i] * std::sinh(eta[i]);\n",
    "          z_sum += z;\n",
    "\n",
    "          e_sum += std::sqrt(x * x + y * y + z * z + mass[i] * mass[i]);\n",
    "        }\n",
    "\n",
    "        // Invariant mass with (+, -, -, -) metric\n",
    "        dimuon_mass = std::sqrt(e_sum * e_sum - x_sum * x_sum - y_sum * y_sum - z_sum * z_sum);\n",
    "    }\n",
    "}\n",
    "return dimuon_mass;\n",
    "\"\"\")"
   ]
  },
  {
   "cell_type": "code",
   "execution_count": 45,
   "id": "3927aef1",
   "metadata": {
    "slideshow": {
     "slide_type": "slide"
    }
   },
   "outputs": [
    {
     "name": "stdout",
     "output_type": "stream",
     "text": [
      "Dataframe from datasource Custom Datasource\n",
      "\n",
      "Property                Value\n",
      "--------                -----\n",
      "Columns in total            3\n",
      "Columns from defines        2\n",
      "Event loops run             1\n",
      "Processing slots            1\n",
      "\n",
      "Column          Type                            Origin\n",
      "------          ----                            ------\n",
      "Events          awkward::Record_rbqdI7vOO88     Dataset\n",
      "awkward_index_  Long64_t                        Define\n",
      "dimuon_mass     float                           Define"
     ]
    }
   ],
   "source": [
    "rdf3.Describe().Print()"
   ]
  },
  {
   "cell_type": "code",
   "execution_count": 46,
   "id": "63d98411",
   "metadata": {
    "slideshow": {
     "slide_type": "fragment"
    }
   },
   "outputs": [
    {
     "name": "stdout",
     "output_type": "stream",
     "text": [
      "\n",
      "Approximate mass of the Z boson: nan GeV\n",
      "\n"
     ]
    }
   ],
   "source": [
    "print('\\nApproximate mass of the Z boson: {:.2f} GeV\\n'.format(\n",
    "        rdf3.Mean('dimuon_mass').GetValue()))"
   ]
  },
  {
   "cell_type": "code",
   "execution_count": 47,
   "id": "fd5ead05",
   "metadata": {
    "slideshow": {
     "slide_type": "slide"
    }
   },
   "outputs": [],
   "source": [
    "mmm_out = ak.from_rdataframe(\n",
    "    rdf3,\n",
    "    columns=('dimuon_mass',))"
   ]
  },
  {
   "cell_type": "code",
   "execution_count": 48,
   "id": "5bf572af",
   "metadata": {
    "slideshow": {
     "slide_type": "fragment"
    }
   },
   "outputs": [
    {
     "data": {
      "text/plain": [
       "<Array [{dimuon_mass: 0}, {...}, ..., {...}] type='61540413 * {dimuon_mass:...'>"
      ]
     },
     "execution_count": 48,
     "metadata": {},
     "output_type": "execute_result"
    }
   ],
   "source": [
    "mmm_out"
   ]
  },
  {
   "cell_type": "code",
   "execution_count": 49,
   "id": "0d541108",
   "metadata": {
    "slideshow": {
     "slide_type": "fragment"
    }
   },
   "outputs": [
    {
     "data": {
      "text/plain": [
       "5638148"
      ]
     },
     "execution_count": 49,
     "metadata": {},
     "output_type": "execute_result"
    }
   ],
   "source": [
    "rdf3.Filter('Events.nMuon() == 2') \\\n",
    "    .Filter('Events.Muon_charge()[0] != Events.Muon_charge()[1]') \\\n",
    "    .Filter('dimuon_mass > 70').Count().GetValue()"
   ]
  },
  {
   "cell_type": "code",
   "execution_count": 50,
   "id": "14ca8a81",
   "metadata": {
    "slideshow": {
     "slide_type": "slide"
    }
   },
   "outputs": [
    {
     "data": {
      "text/plain": [
       "5638148"
      ]
     },
     "execution_count": 50,
     "metadata": {},
     "output_type": "execute_result"
    }
   ],
   "source": [
    "rdf3.Filter('dimuon_mass > 70').Count().GetValue()"
   ]
  },
  {
   "cell_type": "code",
   "execution_count": 51,
   "id": "14c76cf1",
   "metadata": {
    "slideshow": {
     "slide_type": "fragment"
    }
   },
   "outputs": [],
   "source": [
    "rdf4 = rdf3.Filter('dimuon_mass > 70').Range(1000)"
   ]
  },
  {
   "cell_type": "code",
   "execution_count": 52,
   "id": "c069f917",
   "metadata": {
    "slideshow": {
     "slide_type": "fragment"
    }
   },
   "outputs": [
    {
     "name": "stdout",
     "output_type": "stream",
     "text": [
      "\n",
      "Approximate mass of the Z boson: 91.44 GeV\n",
      "\n"
     ]
    }
   ],
   "source": [
    "print('\\nApproximate mass of the Z boson: {:.2f} GeV\\n'.format(\n",
    "        rdf4.Mean('dimuon_mass').GetValue()))"
   ]
  },
  {
   "cell_type": "code",
   "execution_count": 53,
   "id": "a3e1dd1f",
   "metadata": {
    "slideshow": {
     "slide_type": "slide"
    }
   },
   "outputs": [],
   "source": [
    "out2 = mmm_out[mmm_out['dimuon_mass'] > 70]"
   ]
  },
  {
   "cell_type": "code",
   "execution_count": 54,
   "id": "f7c6ee16",
   "metadata": {},
   "outputs": [
    {
     "data": {
      "text/plain": [
       "<Array [{dimuon_mass: 114}, {...}, ..., {...}] type='5638148 * {dimuon_mass...'>"
      ]
     },
     "execution_count": 54,
     "metadata": {},
     "output_type": "execute_result"
    }
   ],
   "source": [
    "out2"
   ]
  },
  {
   "cell_type": "code",
   "execution_count": 55,
   "id": "84bdc084",
   "metadata": {
    "slideshow": {
     "slide_type": "fragment"
    }
   },
   "outputs": [
    {
     "data": {
      "text/plain": [
       "92.05663"
      ]
     },
     "execution_count": 55,
     "metadata": {},
     "output_type": "execute_result"
    }
   ],
   "source": [
    "np.mean(out2['dimuon_mass'])"
   ]
  },
  {
   "cell_type": "code",
   "execution_count": 56,
   "id": "83d1b33c",
   "metadata": {
    "slideshow": {
     "slide_type": "fragment"
    }
   },
   "outputs": [
    {
     "data": {
      "text/plain": [
       "91.438576"
      ]
     },
     "execution_count": 56,
     "metadata": {},
     "output_type": "execute_result"
    }
   ],
   "source": [
    "np.mean(out2['dimuon_mass'][:1000])"
   ]
  },
  {
   "cell_type": "markdown",
   "id": "84ee6d01",
   "metadata": {
    "slideshow": {
     "slide_type": "slide"
    }
   },
   "source": [
    "## User-defined C++ functions"
   ]
  },
  {
   "cell_type": "code",
   "execution_count": 57,
   "id": "7c5b6b46",
   "metadata": {
    "slideshow": {
     "slide_type": "fragment"
    }
   },
   "outputs": [],
   "source": [
    "compiler = ROOT.gInterpreter.Declare"
   ]
  },
  {
   "cell_type": "code",
   "execution_count": 58,
   "id": "8e45ea65",
   "metadata": {
    "slideshow": {
     "slide_type": "slide"
    }
   },
   "outputs": [],
   "source": [
    "done = compiler(\"\"\"\n",
    "template<class T>\n",
    "using Vec = const ROOT::VecOps::RVec<T>;\n",
    "\n",
    "template <typename T>\n",
    "T invariant_mass(Vec<T>& pt, Vec<T>& eta, Vec<T>& phi, Vec<T>& mass) {\n",
    "  const std::size_t size = pt.size();\n",
    "  \n",
    "  R__ASSERT(eta.size() == size && phi.size() == size && mass.size() == size);\n",
    "\n",
    "  T x_sum = 0.; T y_sum = 0.; T z_sum = 0.; T e_sum = 0.;\n",
    "\n",
    "  for (std::size_t i = 0u; i < size; ++ i) {\n",
    "  // Convert to (e, x, y, z) coordinate system and update sums\n",
    "    const auto x = pt[i] * std::cos(phi[i]);\n",
    "    x_sum += x;\n",
    "\n",
    "    const auto y = pt[i] * std::sin(phi[i]);\n",
    "    y_sum += y;\n",
    "\n",
    "    const auto z = pt[i] * std::sinh(eta[i]);\n",
    "    z_sum += z;\n",
    "\n",
    "    e_sum += std::sqrt(x * x + y * y + z * z + mass[i] * mass[i]);\n",
    "  }\n",
    "\n",
    "  // Return invariant mass with (+, -, -, -) metric\n",
    "  return std::sqrt(\n",
    "      e_sum * e_sum - x_sum * x_sum - y_sum * y_sum - z_sum * z_sum);\n",
    "}\n",
    "\"\"\")\n",
    "assert done is True"
   ]
  },
  {
   "cell_type": "code",
   "execution_count": 59,
   "id": "6e34ad6b",
   "metadata": {},
   "outputs": [],
   "source": [
    "df4 = df1.Filter('Events.nMuon() == 2')\\\n",
    "         .Filter('Events.Muon_charge()[0] != Events.Muon_charge()[1]')\\\n",
    "         .Define('Dimuon_mass',\\\n",
    "                 'invariant_mass(Events.Muon_pt(), Events.Muon_eta(), Events.Muon_phi(), Events.Muon_mass())')\\\n",
    "         .Filter('Dimuon_mass > 70')\\\n",
    "         .Range(1000)"
   ]
  },
  {
   "cell_type": "code",
   "execution_count": 60,
   "id": "d7fb85bb",
   "metadata": {},
   "outputs": [
    {
     "name": "stdout",
     "output_type": "stream",
     "text": [
      "\n",
      "Approximate mass of the Z boson: 91.44 GeV\n",
      "\n"
     ]
    }
   ],
   "source": [
    "print('\\nApproximate mass of the Z boson: {:.2f} GeV\\n'.format(\n",
    "        df4.Mean('Dimuon_mass').GetValue()))"
   ]
  },
  {
   "cell_type": "markdown",
   "id": "f8915985",
   "metadata": {
    "slideshow": {
     "slide_type": "slide"
    }
   },
   "source": [
    "## From Awkward to RDataFrame (2)\n",
    "- The array records can be placed in an RDataFrame as native `ROOT::VecOps::RVec`s:"
   ]
  },
  {
   "cell_type": "code",
   "execution_count": 61,
   "id": "77db5805",
   "metadata": {
    "slideshow": {
     "slide_type": "fragment"
    }
   },
   "outputs": [],
   "source": [
    "df3 = ak.to_rdataframe({\"ak_Muon_charge\": array[\"Muon_charge\"], \n",
    "                       \"ak_Muon_eta\": array[\"Muon_eta\"], \n",
    "                       \"ak_Muon_mass\": array[\"Muon_mass\"],\n",
    "                       \"ak_Muon_phi\": array[\"Muon_phi\"],\n",
    "                       \"ak_Muon_pt\": array[\"Muon_pt\"],\n",
    "                       \"ak_nMuon\": array[\"nMuon\"],\n",
    "                      })"
   ]
  },
  {
   "cell_type": "code",
   "execution_count": 62,
   "id": "64fcb3b2",
   "metadata": {
    "slideshow": {
     "slide_type": "slide"
    }
   },
   "outputs": [
    {
     "name": "stdout",
     "output_type": "stream",
     "text": [
      "Dataframe from datasource Custom Datasource\n",
      "\n",
      "Property                Value\n",
      "--------                -----\n",
      "Columns in total            7\n",
      "Columns from defines        1\n",
      "Event loops run             0\n",
      "Processing slots            1\n",
      "\n",
      "Column          Type                            Origin\n",
      "------          ----                            ------\n",
      "ak_Muon_charge  ROOT::VecOps::RVec<int32_t>     Dataset\n",
      "ak_Muon_eta     ROOT::VecOps::RVec<float>       Dataset\n",
      "ak_Muon_mass    ROOT::VecOps::RVec<float>       Dataset\n",
      "ak_Muon_phi     ROOT::VecOps::RVec<float>       Dataset\n",
      "ak_Muon_pt      ROOT::VecOps::RVec<float>       Dataset\n",
      "ak_nMuon        uint32_t                        Dataset\n",
      "awkward_index_  Long64_t                        Define"
     ]
    }
   ],
   "source": [
    "df3.Describe().Print()"
   ]
  },
  {
   "cell_type": "code",
   "execution_count": 63,
   "id": "963fa3c7",
   "metadata": {
    "slideshow": {
     "slide_type": "slide"
    }
   },
   "outputs": [],
   "source": [
    "df4 = df3.Filter('ak_nMuon == 2')\\\n",
    "       .Filter('ak_Muon_charge[0] != ak_Muon_charge[1]')\\\n",
    "       .Define('ak_Dimuon_mass', 'invariant_mass(ak_Muon_pt, ak_Muon_eta, ak_Muon_phi, ak_Muon_mass)')\\\n",
    "       .Filter('ak_Dimuon_mass > 70')\\\n",
    "       .Range(1000)"
   ]
  },
  {
   "cell_type": "code",
   "execution_count": 64,
   "id": "e908d30a",
   "metadata": {
    "slideshow": {
     "slide_type": "slide"
    }
   },
   "outputs": [
    {
     "name": "stdout",
     "output_type": "stream",
     "text": [
      "Dataframe from datasource Custom Datasource\n",
      "\n",
      "Property                Value\n",
      "--------                -----\n",
      "Columns in total            8\n",
      "Columns from defines        2\n",
      "Event loops run             0\n",
      "Processing slots            1\n",
      "\n",
      "Column          Type                            Origin\n",
      "------          ----                            ------\n",
      "ak_Dimuon_mass  float                           Define\n",
      "ak_Muon_charge  ROOT::VecOps::RVec<int32_t>     Dataset\n",
      "ak_Muon_eta     ROOT::VecOps::RVec<float>       Dataset\n",
      "ak_Muon_mass    ROOT::VecOps::RVec<float>       Dataset\n",
      "ak_Muon_phi     ROOT::VecOps::RVec<float>       Dataset\n",
      "ak_Muon_pt      ROOT::VecOps::RVec<float>       Dataset\n",
      "ak_nMuon        uint32_t                        Dataset\n",
      "awkward_index_  Long64_t                        Define"
     ]
    }
   ],
   "source": [
    "df4.Describe().Print()"
   ]
  },
  {
   "cell_type": "code",
   "execution_count": 65,
   "id": "ebc21004",
   "metadata": {
    "slideshow": {
     "slide_type": "slide"
    }
   },
   "outputs": [
    {
     "name": "stdout",
     "output_type": "stream",
     "text": [
      "\n",
      "Approximate mass of the Z boson: 91.44 GeV\n",
      "\n"
     ]
    }
   ],
   "source": [
    "print('\\nApproximate mass of the Z boson: {:.2f} GeV\\n'.format(\n",
    "        df4.Mean('ak_Dimuon_mass').GetValue()))"
   ]
  },
  {
   "cell_type": "markdown",
   "id": "6f5e1295",
   "metadata": {
    "slideshow": {
     "slide_type": "slide"
    }
   },
   "source": [
    "## Summary\n",
    "- Awkward Arrays and RDataFrame provide two very different ways of performing large scale\n",
    "    - By adding the ability to convert between them, users get the best of both\n",
    "- The Awkward-RDF bridge provides users with more flexibility in mixing different packages and languages in their analyses\n",
    "    - It is a part of Awkward version 2, which is currently a submodule `ak._v2`\n",
    "- Awkward version 2 will be fully released at the beginning of December 2022\n",
    "    - The time line [here](https://github.com/scikit-hep/awkward/wiki)\n",
    "<div>\n",
    "<img src=\"img/NSF%20logo.png\" width=\"80\" align=\"left\"/>\n",
    "</div>\n",
    "\n",
    "#### OAC-1836650"
   ]
  }
 ],
 "metadata": {
  "kernelspec": {
   "display_name": "Python 3 (ipykernel)",
   "language": "python",
   "name": "python3"
  },
  "language_info": {
   "codemirror_mode": {
    "name": "ipython",
    "version": 3
   },
   "file_extension": ".py",
   "mimetype": "text/x-python",
   "name": "python",
   "nbconvert_exporter": "python",
   "pygments_lexer": "ipython3",
   "version": "3.10.1"
  }
 },
 "nbformat": 4,
 "nbformat_minor": 5
}
