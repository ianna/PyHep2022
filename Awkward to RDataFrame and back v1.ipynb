{
 "cells": [
  {
   "cell_type": "markdown",
   "id": "14e4174c",
   "metadata": {
    "slideshow": {
     "slide_type": "slide"
    }
   },
   "source": [
    "<div>\n",
    "<img src=\"img/Princeton%20logo.png\" width=\"150\" align=\"right\"/>\n",
    "</div>\n",
    "\n",
    "<div>\n",
    "<img src=\"img/IRIS-HEP%20logo.png\" width=\"120\" align=\"left\"/>\n",
    "</div>\n",
    "\n",
    "<br>\n",
    "<br>\n",
    "<br>\n",
    "<br>\n",
    "\n",
    "# Awkward RDataFrame Tutorial\n",
    "### Ianna Osborne, Jim Pivarski \n",
    "*Princeton University*\n",
    "\n",
    "###### [PyHEP 2022 (virtual) Workshop, 12 - 16 Sept 2022](https://indico.cern.ch/event/1150631/timetable/)"
   ]
  },
  {
   "cell_type": "markdown",
   "id": "ff03eaf6",
   "metadata": {},
   "source": [
    "<div>\n",
    "<img src=\"img/NSF%20logo.png\" width=\"50\" align=\"left\"/>\n",
    "</div>\n",
    "\n",
    "#### OAC-1836650"
   ]
  },
  {
   "cell_type": "markdown",
   "id": "19a4371e",
   "metadata": {
    "slideshow": {
     "slide_type": "slide"
    }
   },
   "source": [
    "## Awkward Array and RDataFrame\n",
    "\n",
    "- Awkward Array and RDataFrame are two very different ways of performing calculations at scale\n",
    "\n",
    "    - [Awkward Array](https://github.com/scikit-hep/awkward) is a library for nested, variable-sized data, including arbitrary-length lists, records, mixed types, and missing data, using NumPy-like idioms\n",
    "\n",
    "    - [RDataFrame](https://root.cern.ch/doc/master/classROOT_1_1RDataFrame.html) - [ROOT](https://root.cern.ch/doc/master/namespaceROOT.html)'s declarative analysis interface \n",
    "        - supports many input formats\n",
    "\n",
    "- The Awkward-RDataFrame bridge provides users with more flexibility in mixing different packages and languages in their analyses. There are numerous benefits of combining both Python and C++. Physicists can mix analyses using Awkward Arrays, Numba, and ROOT C++ in memory, without saving to disk and without leaving their environment."
   ]
  },
  {
   "cell_type": "markdown",
   "id": "f16cd97b",
   "metadata": {
    "slideshow": {
     "slide_type": "slide"
    }
   },
   "source": [
    "## Awkward Array and other projects"
   ]
  },
  {
   "cell_type": "markdown",
   "id": "5d6174a8",
   "metadata": {
    "slideshow": {
     "slide_type": "-"
    }
   },
   "source": [
    "<div>\n",
    "<img src=\"img/Awkward%20Array%20and%20other%20projects.png\" width=\"800\" align=\"center\"/>\n",
    "</div>\n",
    "\n",
    "- See Jim's talk [Uproot, Awkward Array, hist, Vector: from basics to combinatorics](https://github.com/jpivarski-talks/2022-09-12-pyhep22-awkward-combinatorics/blob/main/pyhep2022-combinatorics.ipynb)\n",
    "- See Saransh's talk [Constructing HEP vectors and analyzing HEP data using Vector](https://github.com/Saransh-cpp/PyHEP22-Constructing-HEP-vectors-and-analyzing-HEP-data-using-Vector)\n",
    "- See Doug's [Dask Tutorial]() tomorrow\n",
    "- See Kush's [Uproot + Dask]() tomorrow\n",
    "- [This tutorial](https://github.com/ianna/PyHep2022) covers Awkward Arrays <--> RDataFrame"
   ]
  },
  {
   "cell_type": "markdown",
   "id": "f05e7a8a",
   "metadata": {
    "slideshow": {
     "slide_type": "slide"
    }
   },
   "source": [
    "## From Awkward Array to RDataFrame\n",
    "* The Awkward Array <--> RDataFrame is a part of Awkward Array version 2, which is currently a submodule `ak._v2`:"
   ]
  },
  {
   "cell_type": "code",
   "execution_count": 1,
   "id": "8435cb67",
   "metadata": {
    "slideshow": {
     "slide_type": "-"
    }
   },
   "outputs": [
    {
     "name": "stdout",
     "output_type": "stream",
     "text": [
      "Welcome to JupyROOT 6.26/06\n"
     ]
    }
   ],
   "source": [
    "import awkward._v2 as ak\n",
    "import ROOT"
   ]
  },
  {
   "cell_type": "code",
   "execution_count": 2,
   "id": "7b625c80",
   "metadata": {
    "slideshow": {
     "slide_type": "-"
    }
   },
   "outputs": [],
   "source": [
    "array_x = ak.Array(\n",
    "        [\n",
    "            {\"x\": [1.1, 1.2, 1.3]},\n",
    "            {\"x\": [2.1, 2.2]},\n",
    "            {\"x\": [3.1]},\n",
    "            {\"x\": [4.1, 4.2, 4.3, 4.4]},\n",
    "            {\"x\": [5.1]},\n",
    "        ]\n",
    "    )\n",
    "array_y = ak.Array([1, 2, 3, 4, 5])\n",
    "array_z = ak.Array([[1.1], [2.1, 2.3, 2.4], [3.1], [4.1, 4.2, 4.3], [5.1]])"
   ]
  },
  {
   "cell_type": "code",
   "execution_count": 3,
   "id": "e51f9fc0",
   "metadata": {
    "slideshow": {
     "slide_type": "slide"
    }
   },
   "outputs": [
    {
     "name": "stdout",
     "output_type": "stream",
     "text": [
      "type: 5 * {\n",
      "    x: var * float64\n",
      "}\n",
      "[{x: [1.1, 1.2, 1.3]},\n",
      " {x: [2.1, 2.2]},\n",
      " {x: [3.1]},\n",
      " {x: [4.1, 4.2, 4.3, 4.4]},\n",
      " {x: [5.1]}]\n"
     ]
    }
   ],
   "source": [
    "array_x.show(type=True)"
   ]
  },
  {
   "cell_type": "code",
   "execution_count": 4,
   "id": "d9ae2e11",
   "metadata": {},
   "outputs": [
    {
     "name": "stdout",
     "output_type": "stream",
     "text": [
      "type: 5 * int64\n",
      "[1,\n",
      " 2,\n",
      " 3,\n",
      " 4,\n",
      " 5]\n"
     ]
    }
   ],
   "source": [
    "array_y.show(type=True)"
   ]
  },
  {
   "cell_type": "code",
   "execution_count": 5,
   "id": "6b1b7eca",
   "metadata": {},
   "outputs": [
    {
     "name": "stdout",
     "output_type": "stream",
     "text": [
      "type: 5 * var * float64\n",
      "[[1.1],\n",
      " [2.1, 2.3, 2.4],\n",
      " [3.1],\n",
      " [4.1, 4.2, 4.3],\n",
      " [5.1]]\n"
     ]
    }
   ],
   "source": [
    "array_z.show(type=True)"
   ]
  },
  {
   "cell_type": "markdown",
   "id": "a5d23780",
   "metadata": {
    "slideshow": {
     "slide_type": "slide"
    }
   },
   "source": [
    "## `ak.to_rdataframe` function"
   ]
  },
  {
   "cell_type": "markdown",
   "id": "b862e70e",
   "metadata": {
    "slideshow": {
     "slide_type": "-"
    }
   },
   "source": [
    "- The awkward style `ak.to_rdataframe` function requires a dictionary: \n",
    "    - each - unique - key defines a column name in RDataFrame\n",
    "    - the arrays given for each column have to be equal length\n",
    "- There is a small overhead of generating [Awkward RDataSource C++ code](https://github.com/scikit-hep/awkward/blob/main/src/awkward/_v2/_connect/rdataframe/to_rdataframe.py#L152-L252)\n",
    "    - This operation does not execute the RDF event loop\n",
    "    - The array data are not copied"
   ]
  },
  {
   "cell_type": "code",
   "execution_count": 6,
   "id": "536ada10",
   "metadata": {},
   "outputs": [],
   "source": [
    "assert len(array_x) == len(array_y) == len(array_z)"
   ]
  },
  {
   "cell_type": "code",
   "execution_count": 7,
   "id": "a3d074e7",
   "metadata": {
    "scrolled": true,
    "slideshow": {
     "slide_type": "-"
    }
   },
   "outputs": [],
   "source": [
    "df = ak.to_rdataframe({\"x\": array_x, \"y\": array_y, \"z\": array_z})"
   ]
  },
  {
   "cell_type": "code",
   "execution_count": 8,
   "id": "3fd7a5c8",
   "metadata": {
    "slideshow": {
     "slide_type": "slide"
    }
   },
   "outputs": [
    {
     "name": "stdout",
     "output_type": "stream",
     "text": [
      "Dataframe from datasource Custom Datasource\n",
      "\n",
      "Property                Value\n",
      "--------                -----\n",
      "Columns in total            4\n",
      "Columns from defines        1\n",
      "Event loops run             0\n",
      "Processing slots            1\n",
      "\n",
      "Column          Type                            Origin\n",
      "------          ----                            ------\n",
      "awkward_index_  Long64_t                        Define\n",
      "x               awkward::Record_CBmkURXqiiE     Dataset\n",
      "y               int64_t                         Dataset\n",
      "z               ROOT::VecOps::RVec<double>      Dataset"
     ]
    }
   ],
   "source": [
    "df.Describe().Print()"
   ]
  },
  {
   "cell_type": "markdown",
   "id": "38125ab7",
   "metadata": {
    "slideshow": {
     "slide_type": "-"
    }
   },
   "source": [
    "* The `x` column contains an Awkward Array with a made-up type; `awkward::Record_cKnX5DyNVM`.\n",
    "\n",
    "* Awkward Arrays are dynamically typed, so in a C++ context, the type name is hashed. In practice, there is no need to know the type. The C++ code should use a placeholder type specifier `auto`. The type of the variable that is being declared will be automatically deduced from its initializer.\n",
    "\n",
    "* The `awkward_index_` column is always defined; it is used internally. "
   ]
  },
  {
   "cell_type": "markdown",
   "id": "eb533371",
   "metadata": {
    "slideshow": {
     "slide_type": "slide"
    }
   },
   "source": [
    "## Columns type"
   ]
  },
  {
   "cell_type": "code",
   "execution_count": 9,
   "id": "bec21151",
   "metadata": {
    "slideshow": {
     "slide_type": "-"
    }
   },
   "outputs": [
    {
     "data": {
      "text/plain": [
       "'awkward::Record_CBmkURXqiiE'"
      ]
     },
     "execution_count": 9,
     "metadata": {},
     "output_type": "execute_result"
    }
   ],
   "source": [
    "df.GetColumnType(\"x\")"
   ]
  },
  {
   "cell_type": "code",
   "execution_count": 10,
   "id": "eb57e3b2",
   "metadata": {
    "slideshow": {
     "slide_type": "-"
    }
   },
   "outputs": [
    {
     "data": {
      "text/plain": [
       "'int64_t'"
      ]
     },
     "execution_count": 10,
     "metadata": {},
     "output_type": "execute_result"
    }
   ],
   "source": [
    "df.GetColumnType(\"y\")"
   ]
  },
  {
   "cell_type": "code",
   "execution_count": 11,
   "id": "0b9cf26d",
   "metadata": {
    "slideshow": {
     "slide_type": "-"
    }
   },
   "outputs": [
    {
     "data": {
      "text/plain": [
       "'ROOT::VecOps::RVec<double>'"
      ]
     },
     "execution_count": 11,
     "metadata": {},
     "output_type": "execute_result"
    }
   ],
   "source": [
    "df.GetColumnType(\"z\")"
   ]
  },
  {
   "cell_type": "markdown",
   "id": "4d5c86d1",
   "metadata": {
    "slideshow": {
     "slide_type": "slide"
    }
   },
   "source": [
    "## Operations on data in RDataFrame\n",
    "* Scheduling a filtering operation does not execute the event loop."
   ]
  },
  {
   "cell_type": "code",
   "execution_count": 12,
   "id": "c9065b0c",
   "metadata": {
    "slideshow": {
     "slide_type": "-"
    }
   },
   "outputs": [],
   "source": [
    "df = df.Filter(\"y > 2\")"
   ]
  },
  {
   "cell_type": "markdown",
   "id": "1b78928d",
   "metadata": {},
   "source": [
    "* Let's check the state of the dataframe to make sure that the event loop was not triggered."
   ]
  },
  {
   "cell_type": "code",
   "execution_count": 13,
   "id": "f2290c06",
   "metadata": {
    "slideshow": {
     "slide_type": "-"
    }
   },
   "outputs": [
    {
     "name": "stdout",
     "output_type": "stream",
     "text": [
      "Dataframe from datasource Custom Datasource\n",
      "\n",
      "Property                Value\n",
      "--------                -----\n",
      "Columns in total            4\n",
      "Columns from defines        1\n",
      "Event loops run             0\n",
      "Processing slots            1\n",
      "\n",
      "Column          Type                            Origin\n",
      "------          ----                            ------\n",
      "awkward_index_  Long64_t                        Define\n",
      "x               awkward::Record_CBmkURXqiiE     Dataset\n",
      "y               int64_t                         Dataset\n",
      "z               ROOT::VecOps::RVec<double>      Dataset"
     ]
    }
   ],
   "source": [
    "df.Describe().Print()"
   ]
  },
  {
   "cell_type": "markdown",
   "id": "97f701ec",
   "metadata": {
    "slideshow": {
     "slide_type": "slide"
    }
   },
   "source": [
    "## Retrieve selected columns\n",
    "\n",
    "* The *`ak.from_rdataframe`* function converts selected columns to native Awkward Arrays.\n",
    "\n",
    "* The function takes a tuple of strings that are the RDF column names.\n",
    "\n",
    "* The event loop is triggered once to retrieve all selected columns."
   ]
  },
  {
   "cell_type": "code",
   "execution_count": 14,
   "id": "68d56865",
   "metadata": {
    "slideshow": {
     "slide_type": "-"
    }
   },
   "outputs": [],
   "source": [
    "out = ak.from_rdataframe(\n",
    "    df,\n",
    "    columns=(\"x\", \"y\", \"z\",),\n",
    ")"
   ]
  },
  {
   "cell_type": "code",
   "execution_count": 15,
   "id": "98baf009",
   "metadata": {
    "slideshow": {
     "slide_type": "-"
    }
   },
   "outputs": [
    {
     "data": {
      "text/plain": [
       "<Array [{y: 3, z: [3.1], x: {...}}, ..., {...}] type='3 * {y: int64, z: var...'>"
      ]
     },
     "execution_count": 15,
     "metadata": {},
     "output_type": "execute_result"
    }
   ],
   "source": [
    "out"
   ]
  },
  {
   "cell_type": "markdown",
   "id": "34dcb7be",
   "metadata": {
    "slideshow": {
     "slide_type": "slide"
    }
   },
   "source": [
    "## Filtered array type\n",
    "Let's check the type of the Awkward Array:"
   ]
  },
  {
   "cell_type": "code",
   "execution_count": 16,
   "id": "652876e7",
   "metadata": {
    "slideshow": {
     "slide_type": "-"
    }
   },
   "outputs": [
    {
     "name": "stdout",
     "output_type": "stream",
     "text": [
      "type: 3 * {\n",
      "    y: int64,\n",
      "    z: var * float64,\n",
      "    x: {\n",
      "        x: var * float64\n",
      "    }\n",
      "}\n",
      "[{y: 3, z: [3.1], x: {x: [3.1]}},\n",
      " {y: 4, z: [4.1, 4.2, 4.3], x: {x: [4.1, ...]}},\n",
      " {y: 5, z: [5.1], x: {x: [5.1]}}]\n"
     ]
    }
   ],
   "source": [
    "out.show(type=True)"
   ]
  },
  {
   "cell_type": "markdown",
   "id": "1b575c94",
   "metadata": {},
   "source": [
    "Let's check the filtered entries for `y > 2`:"
   ]
  },
  {
   "cell_type": "code",
   "execution_count": 17,
   "id": "bbd83cf3",
   "metadata": {
    "slideshow": {
     "slide_type": "-"
    }
   },
   "outputs": [
    {
     "name": "stdout",
     "output_type": "stream",
     "text": [
      "[3, 4, 5]\n",
      "[[3.1], [4.1, 4.2, 4.3], [5.1]]\n",
      "[{'x': [3.1]}, {'x': [4.1, 4.2, 4.3, 4.4]}, {'x': [5.1]}]\n"
     ]
    }
   ],
   "source": [
    "print(out[\"y\"].to_list())\n",
    "print(out[\"z\"].to_list())\n",
    "print(out[\"x\"].to_list())"
   ]
  },
  {
   "cell_type": "markdown",
   "id": "126cc0d9",
   "metadata": {
    "slideshow": {
     "slide_type": "slide"
    }
   },
   "source": [
    "Check to make sure we triggered the event loop only once:"
   ]
  },
  {
   "cell_type": "code",
   "execution_count": 18,
   "id": "fed3aca2",
   "metadata": {
    "slideshow": {
     "slide_type": "-"
    }
   },
   "outputs": [
    {
     "name": "stdout",
     "output_type": "stream",
     "text": [
      "Dataframe from datasource Custom Datasource\n",
      "\n",
      "Property                Value\n",
      "--------                -----\n",
      "Columns in total            4\n",
      "Columns from defines        1\n",
      "Event loops run             1\n",
      "Processing slots            1\n",
      "\n",
      "Column          Type                            Origin\n",
      "------          ----                            ------\n",
      "awkward_index_  Long64_t                        Define\n",
      "x               awkward::Record_CBmkURXqiiE     Dataset\n",
      "y               int64_t                         Dataset\n",
      "z               ROOT::VecOps::RVec<double>      Dataset"
     ]
    }
   ],
   "source": [
    "df.Describe().Print()"
   ]
  },
  {
   "cell_type": "markdown",
   "id": "1cf01db4",
   "metadata": {
    "slideshow": {
     "slide_type": "slide"
    }
   },
   "source": [
    "## Layout details\n",
    "The `RecordArray` data: its content `NumpyArray` - is not copied, it is indexed: it is wrapped in an `IndexedArray` - because of the filter selection. The other two columns data are copied."
   ]
  },
  {
   "cell_type": "code",
   "execution_count": 19,
   "id": "d1f1c6bf",
   "metadata": {
    "slideshow": {
     "slide_type": "-"
    }
   },
   "outputs": [
    {
     "data": {
      "text/plain": [
       "<RecordArray is_tuple='false' len='3'>\n",
       "    <content index='0' field='y'>\n",
       "        <NumpyArray dtype='int64' len='3'>[3 4 5]</NumpyArray>\n",
       "    </content>\n",
       "    <content index='1' field='z'>\n",
       "        <ListOffsetArray len='3'>\n",
       "            <offsets><Index dtype='int64' len='4'>\n",
       "                [0 1 4 5]\n",
       "            </Index></offsets>\n",
       "            <content><NumpyArray dtype='float64' len='5'>[3.1 4.1 4.2 4.3 5.1]</NumpyArray></content>\n",
       "        </ListOffsetArray>\n",
       "    </content>\n",
       "    <content index='2' field='x'>\n",
       "        <IndexedArray len='3'>\n",
       "            <index><Index dtype='int64' len='3'>[2 3 4]</Index></index>\n",
       "            <content><RecordArray is_tuple='false' len='5'>\n",
       "                <content index='0' field='x'>\n",
       "                    <ListArray len='5'>\n",
       "                        <starts><Index dtype='int64' len='5'>\n",
       "                            [ 0  3  5  6 10]\n",
       "                        </Index></starts>\n",
       "                        <stops><Index dtype='int64' len='5'>\n",
       "                            [ 3  5  6 10 11]\n",
       "                        </Index></stops>\n",
       "                        <content><NumpyArray dtype='float64' len='11'>\n",
       "                            [1.1 1.2 1.3 2.1 2.2 3.1 4.1 4.2 4.3 4.4 5.1]\n",
       "                        </NumpyArray></content>\n",
       "                    </ListArray>\n",
       "                </content>\n",
       "            </RecordArray></content>\n",
       "        </IndexedArray>\n",
       "    </content>\n",
       "</RecordArray>"
      ]
     },
     "execution_count": 19,
     "metadata": {},
     "output_type": "execute_result"
    }
   ],
   "source": [
    "out.layout"
   ]
  },
  {
   "cell_type": "markdown",
   "id": "7c1ab908",
   "metadata": {
    "slideshow": {
     "slide_type": "slide"
    }
   },
   "source": [
    "## The same operation on Awkward arrays in Python\n",
    "\n",
    "- Is the array type as expected? Yes.\n",
    "- Is its layout the same? No. Awkward arrays are immutable."
   ]
  },
  {
   "cell_type": "code",
   "execution_count": 20,
   "id": "1ddd6a8e",
   "metadata": {},
   "outputs": [
    {
     "name": "stdout",
     "output_type": "stream",
     "text": [
      "type: 3 * {\n",
      "    y: int64,\n",
      "    z: var * float64,\n",
      "    x: {\n",
      "        x: var * float64\n",
      "    }\n",
      "}\n",
      "[{y: 3, z: [3.1], x: {x: [3.1]}},\n",
      " {y: 4, z: [4.1, 4.2, 4.3], x: {x: [4.1, ...]}},\n",
      " {y: 5, z: [5.1], x: {x: [5.1]}}]\n"
     ]
    }
   ],
   "source": [
    "array_yzx = ak.Array({\"y\": array_y, \"z\": array_z, \"x\": array_x})\n",
    "filtered_array = array_yzx[array_yzx[\"y\"] > 2]\n",
    "filtered_array.show(type=True)"
   ]
  },
  {
   "cell_type": "code",
   "execution_count": 21,
   "id": "2089ed5e",
   "metadata": {
    "slideshow": {
     "slide_type": "slide"
    }
   },
   "outputs": [
    {
     "data": {
      "text/plain": [
       "<IndexedArray len='3'>\n",
       "    <index><Index dtype='int64' len='3'>\n",
       "        [2 3 4]\n",
       "    </Index></index>\n",
       "    <content><RecordArray is_tuple='false' len='5'>\n",
       "        <content index='0' field='y'>\n",
       "            <NumpyArray dtype='int64' len='5'>[1 2 3 4 5]</NumpyArray>\n",
       "        </content>\n",
       "        <content index='1' field='z'>\n",
       "            <ListOffsetArray len='5'>\n",
       "                <offsets><Index dtype='int64' len='6'>\n",
       "                    [0 1 4 5 8 9]\n",
       "                </Index></offsets>\n",
       "                <content><NumpyArray dtype='float64' len='9'>\n",
       "                    [1.1 2.1 2.3 2.4 3.1 4.1 4.2 4.3 5.1]\n",
       "                </NumpyArray></content>\n",
       "            </ListOffsetArray>\n",
       "        </content>\n",
       "        <content index='2' field='x'>\n",
       "            <RecordArray is_tuple='false' len='5'>\n",
       "                <content index='0' field='x'>\n",
       "                    <ListOffsetArray len='5'>\n",
       "                        <offsets><Index dtype='int64' len='6'>\n",
       "                            [ 0  3  5  6 10 11]\n",
       "                        </Index></offsets>\n",
       "                        <content><NumpyArray dtype='float64' len='11'>\n",
       "                            [1.1 1.2 1.3 2.1 2.2 3.1 4.1 4.2 4.3 4.4 5.1]\n",
       "                        </NumpyArray></content>\n",
       "                    </ListOffsetArray>\n",
       "                </content>\n",
       "            </RecordArray>\n",
       "        </content>\n",
       "    </RecordArray></content>\n",
       "</IndexedArray>"
      ]
     },
     "execution_count": 21,
     "metadata": {},
     "output_type": "execute_result"
    }
   ],
   "source": [
    "filtered_array.layout"
   ]
  },
  {
   "cell_type": "markdown",
   "id": "80195401",
   "metadata": {
    "slideshow": {
     "slide_type": "slide"
    }
   },
   "source": [
    "## From RDataFrame to Awkward Array\n",
    "\n",
    "The *`ak.from_rdataframe`* function converts selected columns to native Awkward Arrays. The function takes a tuple of strings that are the RDF column names and recognizes the following column data types:\n",
    "\n",
    "- Primitive types: `integer`, `float`, `double`, `std::complex<double>`, etc.\n",
    "- Lists of primitive types and the arbitrary depth nested lists of primitive types: `std::vector<double>`, `RVec<int>`, etc.\n",
    "- Awkward types: run-time generated types derived from `awkward::ArrayView` or `awkward::RecordView`\n",
    "  - no copy required because Awkward Arrays are immutable\n",
    "<div>\n",
    "<img src=\"img/Awkward%20types.png\" width=\"600\" align=\"left\"/>\n",
    "</div>"
   ]
  },
  {
   "cell_type": "markdown",
   "id": "061fa9fd",
   "metadata": {
    "slideshow": {
     "slide_type": "slide"
    }
   },
   "source": [
    "## Data analysis: from C++ to Python"
   ]
  },
  {
   "cell_type": "code",
   "execution_count": 22,
   "id": "c1cd262d",
   "metadata": {
    "slideshow": {
     "slide_type": "-"
    }
   },
   "outputs": [],
   "source": [
    "import awkward._v2 as ak\n",
    "import ROOT"
   ]
  },
  {
   "cell_type": "code",
   "execution_count": 25,
   "id": "943787c4",
   "metadata": {
    "slideshow": {
     "slide_type": "-"
    }
   },
   "outputs": [],
   "source": [
    "df = ROOT.RDataFrame('Events', 'root://eospublic.cern.ch//eos/opendata/cms/derived-data/AOD2NanoAODOutreachTool/Run2012BC_DoubleMuParked_Muons.root')"
   ]
  },
  {
   "cell_type": "markdown",
   "id": "b6172a26",
   "metadata": {
    "slideshow": {
     "slide_type": "-"
    }
   },
   "source": [
    "CMS data from [CERN Open Data portal DOI:10.7483/OPENDATA.CMS.LVG5.QT81](http://opendata.web.cern.ch/record/12341) \n",
    "- This dataset contains about 60 mio. data events from the CMS detector taken in 2012 during Run B and C.\n",
    "- The original AOD dataset is converted to the NanoAOD format and reduced to the muon collections.\n",
    "- The dataset in the file is called <b>Events</b> and contains the following columns:\n",
    " - <b>nMuon</b>\t`unsigned int`\t*Number of muons in this event*\n",
    " - <b>Muon_pt</b>\t`float[nMuon]`\t*Transverse momentum of the muons (stored as an array of size nMuon)*\n",
    " - <b>Muon_eta</b>\t`float[nMuon]`\t*Pseudorapidity of the muons*\n",
    " - <b>Muon_phi</b>\t`float[nMuon]`\t*Azimuth of the muons*\n",
    " - <b>Muon_mass</b>\t`float[nMuon]`\t*Mass of the muons*\n",
    " - <b>Muon_charge</b>\t`int[nMuon]`\t*Charge of the muons (either 1 or -1)*"
   ]
  },
  {
   "cell_type": "code",
   "execution_count": 26,
   "id": "0661e117",
   "metadata": {
    "scrolled": true,
    "slideshow": {
     "slide_type": "slide"
    }
   },
   "outputs": [
    {
     "name": "stdout",
     "output_type": "stream",
     "text": [
      "Dataframe from TChain Events in file root://eospublic.cern.ch//eos/opendata/cms/derived-data/AOD2NanoAODOutreachTool/Run2012BC_DoubleMuParked_Muons.root\n",
      "\n",
      "Property                Value\n",
      "--------                -----\n",
      "Columns in total            6\n",
      "Columns from defines        0\n",
      "Event loops run             0\n",
      "Processing slots            1\n",
      "\n",
      "Column          Type                            Origin\n",
      "------          ----                            ------\n",
      "Muon_charge     ROOT::VecOps::RVec<Int_t>       Dataset\n",
      "Muon_eta        ROOT::VecOps::RVec<Float_t>     Dataset\n",
      "Muon_mass       ROOT::VecOps::RVec<Float_t>     Dataset\n",
      "Muon_phi        ROOT::VecOps::RVec<Float_t>     Dataset\n",
      "Muon_pt         ROOT::VecOps::RVec<Float_t>     Dataset\n",
      "nMuon           UInt_t                          Dataset"
     ]
    }
   ],
   "source": [
    "# Describe the state of the dataframe.\n",
    "# Note that this operation is not running the event loop.\n",
    "df.Describe().Print()"
   ]
  },
  {
   "cell_type": "markdown",
   "id": "cb5adca0",
   "metadata": {
    "slideshow": {
     "slide_type": "slide"
    }
   },
   "source": [
    "Build a small analysis studying the invariant mass of dimuon systems.\n",
    "- See [ROOT tutorial](https://root.cern.ch/doc/master/df102__NanoAODDimuonAnalysis_8py.html) for more information."
   ]
  },
  {
   "cell_type": "code",
   "execution_count": 27,
   "id": "b6098a90",
   "metadata": {
    "slideshow": {
     "slide_type": "-"
    }
   },
   "outputs": [],
   "source": [
    "df = df.Filter('nMuon == 2')\\\n",
    "       .Filter('Muon_charge[0] != Muon_charge[1]')\\\n",
    "       .Define('Dimuon_mass', 'InvariantMass(Muon_pt, Muon_eta, Muon_phi, Muon_mass)')\\\n",
    "       .Filter('Dimuon_mass > 70')\\\n",
    "       .Range(1000)"
   ]
  },
  {
   "cell_type": "markdown",
   "id": "8bead5e6",
   "metadata": {
    "slideshow": {
     "slide_type": "-"
    }
   },
   "source": [
    "- Trigger the event loop by asking for the mean of the dimuon mass:"
   ]
  },
  {
   "cell_type": "code",
   "execution_count": 28,
   "id": "52a9922b",
   "metadata": {
    "slideshow": {
     "slide_type": "-"
    }
   },
   "outputs": [
    {
     "name": "stdout",
     "output_type": "stream",
     "text": [
      "\n",
      "Approximate mass of the Z boson: 91.44 GeV\n",
      "\n"
     ]
    }
   ],
   "source": [
    "print('\\nApproximate mass of the Z boson: {:.2f} GeV\\n'.format(\n",
    "        df.Mean('Dimuon_mass').GetValue()))"
   ]
  },
  {
   "cell_type": "markdown",
   "id": "5696c5c6",
   "metadata": {
    "slideshow": {
     "slide_type": "slide"
    }
   },
   "source": [
    "Check that this operation triggered the event loop once"
   ]
  },
  {
   "cell_type": "code",
   "execution_count": 29,
   "id": "4e975c37",
   "metadata": {
    "slideshow": {
     "slide_type": "-"
    }
   },
   "outputs": [
    {
     "name": "stdout",
     "output_type": "stream",
     "text": [
      "Dataframe from TChain Events in file root://eospublic.cern.ch//eos/opendata/cms/derived-data/AOD2NanoAODOutreachTool/Run2012BC_DoubleMuParked_Muons.root\n",
      "\n",
      "Property                Value\n",
      "--------                -----\n",
      "Columns in total            7\n",
      "Columns from defines        1\n",
      "Event loops run             1\n",
      "Processing slots            1\n",
      "\n",
      "Column          Type                            Origin\n",
      "------          ----                            ------\n",
      "Dimuon_mass     float                           Define\n",
      "Muon_charge     ROOT::VecOps::RVec<Int_t>       Dataset\n",
      "Muon_eta        ROOT::VecOps::RVec<Float_t>     Dataset\n",
      "Muon_mass       ROOT::VecOps::RVec<Float_t>     Dataset\n",
      "Muon_phi        ROOT::VecOps::RVec<Float_t>     Dataset\n",
      "Muon_pt         ROOT::VecOps::RVec<Float_t>     Dataset\n",
      "nMuon           UInt_t                          Dataset"
     ]
    }
   ],
   "source": [
    "df.Describe().Print()"
   ]
  },
  {
   "cell_type": "markdown",
   "id": "c8559fd4",
   "metadata": {
    "slideshow": {
     "slide_type": "slide"
    }
   },
   "source": [
    "## Convert selected columns to Awkward Array\n",
    "\n",
    "- The scheduled analysis executed the event loop once\n",
    "- A user can take the data out as an Awkward Array\n",
    "- If the columns type is not `awkward`, the `ROOT::VecOps::RVec`s content is copied to a Numpy buffer"
   ]
  },
  {
   "cell_type": "code",
   "execution_count": 30,
   "id": "ba5d09d5",
   "metadata": {
    "slideshow": {
     "slide_type": "-"
    }
   },
   "outputs": [],
   "source": [
    "array = ak.from_rdataframe(\n",
    "        df,\n",
    "        columns=(\n",
    "            \"Dimuon_mass\",\n",
    "        ),\n",
    "    )"
   ]
  },
  {
   "cell_type": "code",
   "execution_count": 31,
   "id": "8fa8ae46",
   "metadata": {
    "slideshow": {
     "slide_type": "-"
    }
   },
   "outputs": [
    {
     "data": {
      "text/plain": [
       "<Array [{Dimuon_mass: 114}, {...}, ..., {...}] type='1000 * {Dimuon_mass: f...'>"
      ]
     },
     "execution_count": 31,
     "metadata": {},
     "output_type": "execute_result"
    }
   ],
   "source": [
    "array"
   ]
  },
  {
   "cell_type": "markdown",
   "id": "e05bc830",
   "metadata": {
    "slideshow": {
     "slide_type": "slide"
    }
   },
   "source": [
    "## Array type"
   ]
  },
  {
   "cell_type": "code",
   "execution_count": 32,
   "id": "8e9adfea",
   "metadata": {
    "slideshow": {
     "slide_type": "-"
    }
   },
   "outputs": [
    {
     "name": "stdout",
     "output_type": "stream",
     "text": [
      "type: 1000 * {\n",
      "    Dimuon_mass: float32\n",
      "}\n",
      "[{Dimuon_mass: 114},\n",
      " {Dimuon_mass: 88.3},\n",
      " {Dimuon_mass: 88.3},\n",
      " {Dimuon_mass: 91.3},\n",
      " {Dimuon_mass: 93.6},\n",
      " {Dimuon_mass: 90.9},\n",
      " {Dimuon_mass: 89.2},\n",
      " {Dimuon_mass: 82.3},\n",
      " {Dimuon_mass: 94.6},\n",
      " {Dimuon_mass: 89.2},\n",
      " ...,\n",
      " {Dimuon_mass: 86.4},\n",
      " {Dimuon_mass: 77.1},\n",
      " {Dimuon_mass: 89.8},\n",
      " {Dimuon_mass: 87.3},\n",
      " {Dimuon_mass: 92},\n",
      " {Dimuon_mass: 70.7},\n",
      " {Dimuon_mass: 89.6},\n",
      " {Dimuon_mass: 91.1},\n",
      " {Dimuon_mass: 90.1}]\n"
     ]
    }
   ],
   "source": [
    "array.show(type=True)"
   ]
  },
  {
   "cell_type": "code",
   "execution_count": 33,
   "id": "b588be5e",
   "metadata": {
    "slideshow": {
     "slide_type": "slide"
    }
   },
   "outputs": [
    {
     "name": "stdout",
     "output_type": "stream",
     "text": [
      "type: 1000 * float32\n",
      "[114,\n",
      " 88.3,\n",
      " 88.3,\n",
      " 91.3,\n",
      " 93.6,\n",
      " 90.9,\n",
      " 89.2,\n",
      " 82.3,\n",
      " 94.6,\n",
      " 89.2,\n",
      " ...,\n",
      " 86.4,\n",
      " 77.1,\n",
      " 89.8,\n",
      " 87.3,\n",
      " 92,\n",
      " 70.7,\n",
      " 89.6,\n",
      " 91.1,\n",
      " 90.1]\n"
     ]
    }
   ],
   "source": [
    "array[\"Dimuon_mass\"].show(type=True)"
   ]
  },
  {
   "cell_type": "markdown",
   "id": "babe91f0",
   "metadata": {
    "slideshow": {
     "slide_type": "slide"
    }
   },
   "source": [
    "## Check RDataFrame state\n",
    "- The first event loop was executed when the analysis was run\n",
    "- The second event loop was executed when the columns were retrieved"
   ]
  },
  {
   "cell_type": "code",
   "execution_count": 34,
   "id": "e1d39f44",
   "metadata": {
    "slideshow": {
     "slide_type": "-"
    }
   },
   "outputs": [
    {
     "name": "stdout",
     "output_type": "stream",
     "text": [
      "Dataframe from TChain Events in file root://eospublic.cern.ch//eos/opendata/cms/derived-data/AOD2NanoAODOutreachTool/Run2012BC_DoubleMuParked_Muons.root\n",
      "\n",
      "Property                Value\n",
      "--------                -----\n",
      "Columns in total            7\n",
      "Columns from defines        1\n",
      "Event loops run             2\n",
      "Processing slots            1\n",
      "\n",
      "Column          Type                            Origin\n",
      "------          ----                            ------\n",
      "Dimuon_mass     float                           Define\n",
      "Muon_charge     ROOT::VecOps::RVec<Int_t>       Dataset\n",
      "Muon_eta        ROOT::VecOps::RVec<Float_t>     Dataset\n",
      "Muon_mass       ROOT::VecOps::RVec<Float_t>     Dataset\n",
      "Muon_phi        ROOT::VecOps::RVec<Float_t>     Dataset\n",
      "Muon_pt         ROOT::VecOps::RVec<Float_t>     Dataset\n",
      "nMuon           UInt_t                          Dataset"
     ]
    }
   ],
   "source": [
    "df.Describe().Print()"
   ]
  },
  {
   "cell_type": "markdown",
   "id": "13273822",
   "metadata": {
    "slideshow": {
     "slide_type": "slide"
    }
   },
   "source": [
    "## Data as Awkward Arrays in Python\n",
    "* See Alexander's talk [End-to-end physics analysis with Open Data: the Analysis Grand Challenge](https://github.com/alexander-held/PyHEP-2022-AGC)\n",
    "* See Jim's talk [Uproot, Awkward Array, hist, Vector: from basics to combinatorics](https://github.com/jpivarski-talks/2022-09-12-pyhep22-awkward-combinatorics/blob/main/pyhep2022-combinatorics.ipynb)"
   ]
  },
  {
   "cell_type": "markdown",
   "id": "6d6912c0",
   "metadata": {},
   "source": [
    "### Plot"
   ]
  },
  {
   "cell_type": "code",
   "execution_count": 35,
   "id": "8898b732",
   "metadata": {},
   "outputs": [],
   "source": [
    "import hist"
   ]
  },
  {
   "cell_type": "code",
   "execution_count": 36,
   "id": "46e7b0cf",
   "metadata": {
    "slideshow": {
     "slide_type": "slide"
    }
   },
   "outputs": [
    {
     "data": {
      "image/png": "[encoded data removed]",
      "text/plain": [
       "<Figure size 432x288 with 1 Axes>"
      ]
     },
     "metadata": {
      "needs_background": "light"
     },
     "output_type": "display_data"
    }
   ],
   "source": [
    "h = (\n",
    "    hist.Hist.new.Regular(100, 70, 200, name=\"Dimuon mass m $\\mu$$\\mu$ [GeV]\")\n",
    "    .Double()\n",
    "    .fill(ak.flatten(array[\"Dimuon_mass\"], axis = -1))\n",
    "    .plot()\n",
    ");"
   ]
  },
  {
   "cell_type": "markdown",
   "id": "681e85b0",
   "metadata": {
    "slideshow": {
     "slide_type": "slide"
    }
   },
   "source": [
    "### NumPy and Awkward Arrays\n",
    "- Let's ask for the mean of the dimuon mass: and check that we get the same result using a NumPy function:"
   ]
  },
  {
   "cell_type": "code",
   "execution_count": 37,
   "id": "eb84a10d",
   "metadata": {
    "slideshow": {
     "slide_type": "fragment"
    }
   },
   "outputs": [],
   "source": [
    "import numpy as np"
   ]
  },
  {
   "cell_type": "code",
   "execution_count": 38,
   "id": "f97fc534",
   "metadata": {
    "slideshow": {
     "slide_type": "fragment"
    }
   },
   "outputs": [
    {
     "data": {
      "text/plain": [
       "91.438576"
      ]
     },
     "execution_count": 38,
     "metadata": {},
     "output_type": "execute_result"
    }
   ],
   "source": [
    "np.mean(array[\"Dimuon_mass\"])"
   ]
  },
  {
   "cell_type": "markdown",
   "id": "806b2c5e",
   "metadata": {
    "slideshow": {
     "slide_type": "slide"
    }
   },
   "source": [
    "## Awkward roundtrip"
   ]
  },
  {
   "cell_type": "markdown",
   "id": "52fc3873",
   "metadata": {
    "slideshow": {
     "slide_type": "-"
    }
   },
   "source": [
    "* The multi-threading can be enabled with:\n",
    "```python\n",
    "ROOT.ROOT.EnableImplicitMT()\n",
    "```\n",
    "* Create a dataframe:"
   ]
  },
  {
   "cell_type": "code",
   "execution_count": 39,
   "id": "0a11a7e2",
   "metadata": {
    "slideshow": {
     "slide_type": "-"
    }
   },
   "outputs": [],
   "source": [
    "df = ROOT.RDataFrame('Events', 'root://eospublic.cern.ch//eos/opendata/cms/derived-data/AOD2NanoAODOutreachTool/Run2012BC_DoubleMuParked_Muons.root')"
   ]
  },
  {
   "cell_type": "markdown",
   "id": "ea67f535",
   "metadata": {
    "slideshow": {
     "slide_type": "slide"
    }
   },
   "source": [
    "## From RDataFrame to Awkward"
   ]
  },
  {
   "cell_type": "markdown",
   "id": "ab2d871a",
   "metadata": {
    "slideshow": {
     "slide_type": "-"
    }
   },
   "source": [
    "Let's take out all 60 mio. data events as an Awkward Array:"
   ]
  },
  {
   "cell_type": "code",
   "execution_count": 40,
   "id": "190d5bf6",
   "metadata": {
    "slideshow": {
     "slide_type": "fragment"
    }
   },
   "outputs": [],
   "source": [
    "array_out = ak.from_rdataframe(\n",
    "        df,\n",
    "        columns=(\n",
    "            \"Muon_charge\",\n",
    "            \"Muon_eta\",\n",
    "            \"Muon_mass\",\n",
    "            \"Muon_phi\",\n",
    "            \"Muon_pt\",\n",
    "            \"nMuon\",\n",
    "        ),\n",
    "    )"
   ]
  },
  {
   "cell_type": "code",
   "execution_count": 41,
   "id": "be294f04",
   "metadata": {
    "slideshow": {
     "slide_type": "fragment"
    }
   },
   "outputs": [
    {
     "data": {
      "text/plain": [
       "<Array [{Muon_charge: [...], ...}, ..., {...}] type='61540413 * {Muon_charg...'>"
      ]
     },
     "execution_count": 41,
     "metadata": {},
     "output_type": "execute_result"
    }
   ],
   "source": [
    "array_out"
   ]
  },
  {
   "cell_type": "code",
   "execution_count": 42,
   "id": "3f81d1cd",
   "metadata": {
    "slideshow": {
     "slide_type": "slide"
    }
   },
   "outputs": [
    {
     "name": "stdout",
     "output_type": "stream",
     "text": [
      "type: 61540413 * {\n",
      "    Muon_charge: var * int32,\n",
      "    Muon_eta: var * float32,\n",
      "    Muon_mass: var * float32,\n",
      "    Muon_phi: var * float32,\n",
      "    Muon_pt: var * float32,\n",
      "    nMuon: uint32\n",
      "}\n",
      "[{Muon_charge: [-1, -1], Muon_eta: [1.07, -0.564], Muon_mass: [...], ...},\n",
      " {Muon_charge: [1, -1], Muon_eta: [-0.428, 0.349], Muon_mass: [...], ...},\n",
      " {Muon_charge: [1], Muon_eta: [2.21], Muon_mass: [0.106], Muon_phi: ..., ...},\n",
      " {Muon_charge: [1, 1, 1, 1], Muon_eta: [-1.59, ...], Muon_mass: [...], ...},\n",
      " {Muon_charge: [-1, -1, 1, 1], Muon_eta: [-2.17, ...], Muon_mass: [...], ...},\n",
      " {Muon_charge: [-1, 1, -1], Muon_eta: [-1.37, ...], Muon_mass: [...], ...},\n",
      " {Muon_charge: [-1, 1], Muon_eta: [-0.532, -1], Muon_mass: [...], ...},\n",
      " {Muon_charge: [1, -1], Muon_eta: [-0.772, ...], Muon_mass: [...], ...},\n",
      " {Muon_charge: [-1, 1], Muon_eta: [0.442, 0.702], Muon_mass: [...], ...},\n",
      " {Muon_charge: [-1, 1], Muon_eta: [2.34, 2.35], Muon_mass: [...], ...},\n",
      " ...,\n",
      " {Muon_charge: [1, -1], Muon_eta: [0.252, 0.275], Muon_mass: [...], ...},\n",
      " {Muon_charge: [1, -1], Muon_eta: [1.27, 1.29], Muon_mass: [...], ...},\n",
      " {Muon_charge: [-1, 1], Muon_eta: [0.964, ...], Muon_mass: [...], ...},\n",
      " {Muon_charge: [-1, 1, 1], Muon_eta: [-0.728, ...], Muon_mass: [...], ...},\n",
      " {Muon_charge: [1, -1], Muon_eta: [0.154, 0.0944], Muon_mass: [...], ...},\n",
      " {Muon_charge: [-1, 1], Muon_eta: [-1.92, 0.378], Muon_mass: [...], ...},\n",
      " {Muon_charge: [-1, -1, -1, -1], Muon_eta: [-0.566, ...], Muon_mass: ..., ...},\n",
      " {Muon_charge: [-1, -1, -1], Muon_eta: [-1.47, ...], Muon_mass: [...], ...},\n",
      " {Muon_charge: [-1, 1], Muon_eta: [-2.15, 0.291], Muon_mass: [...], ...}]\n"
     ]
    }
   ],
   "source": [
    "array_out.show(type=True)"
   ]
  },
  {
   "cell_type": "markdown",
   "id": "27390847",
   "metadata": {
    "slideshow": {
     "slide_type": "slide"
    }
   },
   "source": [
    "## From Awkward to RDataFrame\n",
    "- Let's put the whole array in another RDataFrame as a <b>single</b> column <i>\"Events\"</i>\n",
    "    - The large-scale data is not copied:"
   ]
  },
  {
   "cell_type": "code",
   "execution_count": 43,
   "id": "dada3a61",
   "metadata": {
    "slideshow": {
     "slide_type": "fragment"
    }
   },
   "outputs": [],
   "source": [
    "df1 = ak.to_rdataframe({\"Events\": array_out})"
   ]
  },
  {
   "cell_type": "code",
   "execution_count": 44,
   "id": "ac69bc8a",
   "metadata": {
    "slideshow": {
     "slide_type": "slide"
    }
   },
   "outputs": [
    {
     "name": "stdout",
     "output_type": "stream",
     "text": [
      "Dataframe from datasource Custom Datasource\n",
      "\n",
      "Property                Value\n",
      "--------                -----\n",
      "Columns in total            2\n",
      "Columns from defines        1\n",
      "Event loops run             0\n",
      "Processing slots            1\n",
      "\n",
      "Column          Type                            Origin\n",
      "------          ----                            ------\n",
      "Events          awkward::Record_CdZPvmeLgCM     Dataset\n",
      "awkward_index_  Long64_t                        Define"
     ]
    }
   ],
   "source": [
    "df1.Describe().Print()"
   ]
  },
  {
   "cell_type": "markdown",
   "id": "6cd4593d",
   "metadata": {
    "slideshow": {
     "slide_type": "slide"
    }
   },
   "source": [
    "## Awkward column type\n",
    "- The `awkward::Record_` type array view records are accessed through functions\n",
    "- The function names are the same as the original Awkward array record field names: \n",
    "    - `Events.nMuon()`, `Events.Muon_pt()`, `Events.Muon_eta()`, `Events.Muon_phi()`, `Events.Muon_mass()`\n",
    "- They return an iterable object - `ROOT::VecOps::RVec`: an `integer` index can be used to access the elements of the record:\n",
    "    - `Events.Muon_charge()[0]`\n",
    "- An `InvariantMass` C++ function can be applied to define a new `Dimuon_mass` column:\n",
    "```python\n",
    "df2 = df1.Filter('Events.nMuon() == 2')\n",
    "         .Filter('Events.Muon_charge()[0] != Events.Muon_charge()[1]')\n",
    "         .Define('Dimuon_mass',\n",
    "                 'InvariantMass(Events.Muon_pt(), Events.Muon_eta(), Events.Muon_phi(), Events.Muon_mass())')\n",
    "         .Filter('Dimuon_mass > 70')\n",
    "         .Range(1000)\n",
    "```"
   ]
  },
  {
   "cell_type": "code",
   "execution_count": 45,
   "id": "b5fb0f68",
   "metadata": {
    "slideshow": {
     "slide_type": "slide"
    }
   },
   "outputs": [],
   "source": [
    "df2 = df1.Filter('Events.nMuon() == 2')\\\n",
    "         .Filter('Events.Muon_charge()[0] != Events.Muon_charge()[1]')\\\n",
    "         .Define('Dimuon_mass',\\\n",
    "                 'InvariantMass(Events.Muon_pt(), Events.Muon_eta(), Events.Muon_phi(), Events.Muon_mass())')\\\n",
    "         .Filter('Dimuon_mass > 70')\\\n",
    "         .Range(1000)"
   ]
  },
  {
   "cell_type": "code",
   "execution_count": 46,
   "id": "a843f44f",
   "metadata": {
    "slideshow": {
     "slide_type": "fragment"
    }
   },
   "outputs": [
    {
     "name": "stdout",
     "output_type": "stream",
     "text": [
      "Dataframe from datasource Custom Datasource\n",
      "\n",
      "Property                Value\n",
      "--------                -----\n",
      "Columns in total            3\n",
      "Columns from defines        2\n",
      "Event loops run             0\n",
      "Processing slots            1\n",
      "\n",
      "Column          Type                            Origin\n",
      "------          ----                            ------\n",
      "Dimuon_mass     float                           Define\n",
      "Events          awkward::Record_CdZPvmeLgCM     Dataset\n",
      "awkward_index_  Long64_t                        Define"
     ]
    }
   ],
   "source": [
    "df2.Describe().Print()"
   ]
  },
  {
   "cell_type": "code",
   "execution_count": 47,
   "id": "585f22d7",
   "metadata": {
    "slideshow": {
     "slide_type": "fragment"
    }
   },
   "outputs": [
    {
     "name": "stdout",
     "output_type": "stream",
     "text": [
      "\n",
      "Approximate mass of the Z boson: 91.44 GeV\n",
      "\n"
     ]
    }
   ],
   "source": [
    "print('\\nApproximate mass of the Z boson: {:.2f} GeV\\n'.format(\n",
    "        df2.Mean('Dimuon_mass').GetValue()))"
   ]
  },
  {
   "cell_type": "markdown",
   "id": "7d675057",
   "metadata": {
    "slideshow": {
     "slide_type": "slide"
    }
   },
   "source": [
    "## User-defined C++ lambda functions\n",
    "Let's define our own `invariant_mass` function that takes an Awkward type:"
   ]
  },
  {
   "cell_type": "code",
   "execution_count": 48,
   "id": "1b4ae9fb",
   "metadata": {
    "slideshow": {
     "slide_type": "slide"
    }
   },
   "outputs": [],
   "source": [
    "rdf3 = df1.Filter('Events.nMuon() == 2')\\\n",
    "    .Filter('Events.Muon_charge()[0] != Events.Muon_charge()[1]')\\\n",
    "    .Define(\"dimuon_mass\", \"\"\"\n",
    "//\n",
    "// Let the RDF handle the following selections:\n",
    "// if (Events.nMuon() == 2) { ...\n",
    "//    if (Events.Muon_charge()[0] != Events.Muon_charge()[1]) { ...\n",
    "\n",
    "return std::sqrt(2 * Events.Muon_pt()[0] * Events.Muon_pt()[1]\n",
    "    * (std::cosh(Events.Muon_eta()[0] - Events.Muon_eta()[1]) \n",
    "    - std::cos(Events.Muon_phi()[0] - Events.Muon_phi()[1])));\n",
    "\"\"\")"
   ]
  },
  {
   "cell_type": "code",
   "execution_count": 49,
   "id": "02ab92fc",
   "metadata": {
    "slideshow": {
     "slide_type": "slide"
    }
   },
   "outputs": [
    {
     "name": "stdout",
     "output_type": "stream",
     "text": [
      "Dataframe from datasource Custom Datasource\n",
      "\n",
      "Property                Value\n",
      "--------                -----\n",
      "Columns in total            3\n",
      "Columns from defines        2\n",
      "Event loops run             1\n",
      "Processing slots            1\n",
      "\n",
      "Column          Type                            Origin\n",
      "------          ----                            ------\n",
      "Events          awkward::Record_CdZPvmeLgCM     Dataset\n",
      "awkward_index_  Long64_t                        Define\n",
      "dimuon_mass     float                           Define"
     ]
    }
   ],
   "source": [
    "rdf3.Describe().Print()"
   ]
  },
  {
   "cell_type": "code",
   "execution_count": 50,
   "id": "2ea8cd84",
   "metadata": {
    "slideshow": {
     "slide_type": "fragment"
    }
   },
   "outputs": [
    {
     "name": "stdout",
     "output_type": "stream",
     "text": [
      "\n",
      "Approximate mass of the Z boson: 91.44 GeV\n",
      "\n"
     ]
    }
   ],
   "source": [
    "print('\\nApproximate mass of the Z boson: {:.2f} GeV\\n'.format(\n",
    "        rdf3.Filter('dimuon_mass > 70').Range(1000).Mean('dimuon_mass').GetValue()))"
   ]
  },
  {
   "cell_type": "code",
   "execution_count": 51,
   "id": "7b4d0d71",
   "metadata": {
    "slideshow": {
     "slide_type": "slide"
    }
   },
   "outputs": [],
   "source": [
    "result = ak.from_rdataframe(\n",
    "    rdf3,\n",
    "    columns=('dimuon_mass',))"
   ]
  },
  {
   "cell_type": "code",
   "execution_count": 52,
   "id": "d8452792",
   "metadata": {
    "slideshow": {
     "slide_type": "fragment"
    }
   },
   "outputs": [
    {
     "data": {
      "text/plain": [
       "<Array [{dimuon_mass: 27.9}, {...}, ..., {...}] type='24067843 * {dimuon_ma...'>"
      ]
     },
     "execution_count": 52,
     "metadata": {},
     "output_type": "execute_result"
    }
   ],
   "source": [
    "result"
   ]
  },
  {
   "cell_type": "code",
   "execution_count": 53,
   "id": "2019d528",
   "metadata": {
    "slideshow": {
     "slide_type": "slide"
    }
   },
   "outputs": [],
   "source": [
    "out2 = result[result['dimuon_mass'] > 70]"
   ]
  },
  {
   "cell_type": "code",
   "execution_count": 54,
   "id": "e2680a39",
   "metadata": {},
   "outputs": [
    {
     "data": {
      "text/plain": [
       "<Array [{dimuon_mass: 114}, {...}, ..., {...}] type='5638140 * {dimuon_mass...'>"
      ]
     },
     "execution_count": 54,
     "metadata": {},
     "output_type": "execute_result"
    }
   ],
   "source": [
    "out2"
   ]
  },
  {
   "cell_type": "code",
   "execution_count": 55,
   "id": "5f3f251d",
   "metadata": {
    "slideshow": {
     "slide_type": "fragment"
    }
   },
   "outputs": [
    {
     "data": {
      "text/plain": [
       "91.43826"
      ]
     },
     "execution_count": 55,
     "metadata": {},
     "output_type": "execute_result"
    }
   ],
   "source": [
    "np.mean(out2['dimuon_mass'][:1000])"
   ]
  },
  {
   "cell_type": "markdown",
   "id": "5cea6cf6",
   "metadata": {
    "slideshow": {
     "slide_type": "slide"
    }
   },
   "source": [
    "## User-defined C++ functions"
   ]
  },
  {
   "cell_type": "code",
   "execution_count": 56,
   "id": "3d632610",
   "metadata": {
    "slideshow": {
     "slide_type": "fragment"
    }
   },
   "outputs": [],
   "source": [
    "compiler = ROOT.gInterpreter.Declare"
   ]
  },
  {
   "cell_type": "code",
   "execution_count": 57,
   "id": "64a3d494",
   "metadata": {
    "slideshow": {
     "slide_type": "slide"
    }
   },
   "outputs": [],
   "source": [
    "done = compiler(\"\"\"\n",
    "template<class T>\n",
    "using Vec = const ROOT::VecOps::RVec<T>;\n",
    "\n",
    "template <typename T>\n",
    "T invariant_mass(Vec<T>& pt, Vec<T>& eta, Vec<T>& phi, Vec<T>& mass) {\n",
    "  const std::size_t size = pt.size();\n",
    "  \n",
    "  R__ASSERT(eta.size() == size && phi.size() == size && mass.size() == size);\n",
    "\n",
    "  T x_sum = 0.; T y_sum = 0.; T z_sum = 0.; T e_sum = 0.;\n",
    "\n",
    "  for (std::size_t i = 0u; i < size; ++ i) {\n",
    "  // Convert to (e, x, y, z) coordinate system and update sums\n",
    "    const auto x = pt[i] * std::cos(phi[i]);\n",
    "    x_sum += x;\n",
    "\n",
    "    const auto y = pt[i] * std::sin(phi[i]);\n",
    "    y_sum += y;\n",
    "\n",
    "    const auto z = pt[i] * std::sinh(eta[i]);\n",
    "    z_sum += z;\n",
    "\n",
    "    e_sum += std::sqrt(x * x + y * y + z * z + mass[i] * mass[i]);\n",
    "  }\n",
    "\n",
    "  // Return invariant mass with (+, -, -, -) metric\n",
    "  return std::sqrt(\n",
    "      e_sum * e_sum - x_sum * x_sum - y_sum * y_sum - z_sum * z_sum);\n",
    "}\n",
    "\"\"\")\n",
    "assert done is True"
   ]
  },
  {
   "cell_type": "code",
   "execution_count": 58,
   "id": "af534e2a",
   "metadata": {
    "slideshow": {
     "slide_type": "slide"
    }
   },
   "outputs": [],
   "source": [
    "df4 = df1.Filter('Events.nMuon() == 2')\\\n",
    "         .Filter('Events.Muon_charge()[0] != Events.Muon_charge()[1]')\\\n",
    "         .Define('Dimuon_mass',\\\n",
    "                 'invariant_mass(Events.Muon_pt(), Events.Muon_eta(), Events.Muon_phi(), Events.Muon_mass())')\\\n",
    "         .Filter('Dimuon_mass > 70')\\\n",
    "         .Range(1000)"
   ]
  },
  {
   "cell_type": "code",
   "execution_count": 59,
   "id": "91a02bb0",
   "metadata": {},
   "outputs": [
    {
     "name": "stdout",
     "output_type": "stream",
     "text": [
      "\n",
      "Approximate mass of the Z boson: 91.44 GeV\n",
      "\n"
     ]
    }
   ],
   "source": [
    "print('\\nApproximate mass of the Z boson: {:.2f} GeV\\n'.format(\n",
    "        df4.Mean('Dimuon_mass').GetValue()))"
   ]
  },
  {
   "cell_type": "markdown",
   "id": "11395213",
   "metadata": {
    "slideshow": {
     "slide_type": "slide"
    }
   },
   "source": [
    "## From Awkward to RDataFrame (2)\n",
    "- The array records can be placed in an RDataFrame as native `ROOT::VecOps::RVec`s:"
   ]
  },
  {
   "cell_type": "code",
   "execution_count": 60,
   "id": "77db5805",
   "metadata": {
    "slideshow": {
     "slide_type": "fragment"
    }
   },
   "outputs": [],
   "source": [
    "df3 = ak.to_rdataframe({\"ak_Muon_charge\": array_out[\"Muon_charge\"], \n",
    "                       \"ak_Muon_eta\": array_out[\"Muon_eta\"], \n",
    "                       \"ak_Muon_mass\": array_out[\"Muon_mass\"],\n",
    "                       \"ak_Muon_phi\": array_out[\"Muon_phi\"],\n",
    "                       \"ak_Muon_pt\": array_out[\"Muon_pt\"],\n",
    "                       \"ak_nMuon\": array_out[\"nMuon\"],\n",
    "                      })"
   ]
  },
  {
   "cell_type": "code",
   "execution_count": 61,
   "id": "72095b90",
   "metadata": {
    "slideshow": {
     "slide_type": "slide"
    }
   },
   "outputs": [
    {
     "name": "stdout",
     "output_type": "stream",
     "text": [
      "Dataframe from datasource Custom Datasource\n",
      "\n",
      "Property                Value\n",
      "--------                -----\n",
      "Columns in total            7\n",
      "Columns from defines        1\n",
      "Event loops run             0\n",
      "Processing slots            1\n",
      "\n",
      "Column          Type                            Origin\n",
      "------          ----                            ------\n",
      "ak_Muon_charge  ROOT::VecOps::RVec<int32_t>     Dataset\n",
      "ak_Muon_eta     ROOT::VecOps::RVec<float>       Dataset\n",
      "ak_Muon_mass    ROOT::VecOps::RVec<float>       Dataset\n",
      "ak_Muon_phi     ROOT::VecOps::RVec<float>       Dataset\n",
      "ak_Muon_pt      ROOT::VecOps::RVec<float>       Dataset\n",
      "ak_nMuon        uint32_t                        Dataset\n",
      "awkward_index_  Long64_t                        Define"
     ]
    }
   ],
   "source": [
    "df3.Describe().Print()"
   ]
  },
  {
   "cell_type": "code",
   "execution_count": 62,
   "id": "963fa3c7",
   "metadata": {
    "slideshow": {
     "slide_type": "slide"
    }
   },
   "outputs": [],
   "source": [
    "df4 = df3.Filter('ak_nMuon == 2')\\\n",
    "       .Filter('ak_Muon_charge[0] != ak_Muon_charge[1]')\\\n",
    "       .Define('ak_Dimuon_mass', 'invariant_mass(ak_Muon_pt, ak_Muon_eta, ak_Muon_phi, ak_Muon_mass)')\\\n",
    "       .Filter('ak_Dimuon_mass > 70')\\\n",
    "       .Range(1000)"
   ]
  },
  {
   "cell_type": "code",
   "execution_count": 63,
   "id": "e908d30a",
   "metadata": {
    "slideshow": {
     "slide_type": "slide"
    }
   },
   "outputs": [
    {
     "name": "stdout",
     "output_type": "stream",
     "text": [
      "Dataframe from datasource Custom Datasource\n",
      "\n",
      "Property                Value\n",
      "--------                -----\n",
      "Columns in total            8\n",
      "Columns from defines        2\n",
      "Event loops run             0\n",
      "Processing slots            1\n",
      "\n",
      "Column          Type                            Origin\n",
      "------          ----                            ------\n",
      "ak_Dimuon_mass  float                           Define\n",
      "ak_Muon_charge  ROOT::VecOps::RVec<int32_t>     Dataset\n",
      "ak_Muon_eta     ROOT::VecOps::RVec<float>       Dataset\n",
      "ak_Muon_mass    ROOT::VecOps::RVec<float>       Dataset\n",
      "ak_Muon_phi     ROOT::VecOps::RVec<float>       Dataset\n",
      "ak_Muon_pt      ROOT::VecOps::RVec<float>       Dataset\n",
      "ak_nMuon        uint32_t                        Dataset\n",
      "awkward_index_  Long64_t                        Define"
     ]
    }
   ],
   "source": [
    "df4.Describe().Print()"
   ]
  },
  {
   "cell_type": "code",
   "execution_count": 64,
   "id": "ebc21004",
   "metadata": {
    "slideshow": {
     "slide_type": "slide"
    }
   },
   "outputs": [
    {
     "name": "stdout",
     "output_type": "stream",
     "text": [
      "\n",
      "Approximate mass of the Z boson: 91.44 GeV\n",
      "\n"
     ]
    }
   ],
   "source": [
    "print('\\nApproximate mass of the Z boson: {:.2f} GeV\\n'.format(\n",
    "        df4.Mean('ak_Dimuon_mass').GetValue()))"
   ]
  },
  {
   "cell_type": "markdown",
   "id": "6f5e1295",
   "metadata": {
    "slideshow": {
     "slide_type": "slide"
    }
   },
   "source": [
    "## Summary\n",
    "- Awkward Arrays and RDataFrame provide two very different ways of performing large scale\n",
    "    - By adding the ability to convert between them, users get the best of both\n",
    "- The Awkward-RDF bridge provides users with more flexibility in mixing different packages and languages in their analyses\n",
    "    - It is a part of Awkward version 2, which is currently a submodule `ak._v2`\n",
    "- Awkward version 2 will be fully released at the beginning of December 2022\n",
    "    - The time line [here](https://github.com/scikit-hep/awkward/wiki)"
   ]
  },
  {
   "cell_type": "markdown",
   "id": "43c859a8",
   "metadata": {},
   "source": [
    "### Feedback is greatly appreciated! Please, report issues [here](https://github.com/scikit-hep/awkward/issues). "
   ]
  }
 ],
 "metadata": {
  "kernelspec": {
   "display_name": "Python 3 (ipykernel)",
   "language": "python",
   "name": "python3"
  },
  "language_info": {
   "codemirror_mode": {
    "name": "ipython",
    "version": 3
   },
   "file_extension": ".py",
   "mimetype": "text/x-python",
   "name": "python",
   "nbconvert_exporter": "python",
   "pygments_lexer": "ipython3",
   "version": "3.10.1"
  }
 },
 "nbformat": 4,
 "nbformat_minor": 5
}
